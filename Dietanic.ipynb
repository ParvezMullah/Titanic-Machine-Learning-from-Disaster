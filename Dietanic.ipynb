{
 "cells": [
  {
   "cell_type": "code",
   "execution_count": 1,
   "metadata": {},
   "outputs": [],
   "source": [
    "import pandas as pd\n",
    "import matplotlib.pyplot as plt\n",
    "import seaborn as sns\n",
    "%matplotlib inline \n",
    "import warnings\n",
    "warnings.filterwarnings('ignore')"
   ]
  },
  {
   "cell_type": "code",
   "execution_count": 2,
   "metadata": {},
   "outputs": [],
   "source": [
    "df = pd.read_csv('train.csv')"
   ]
  },
  {
   "cell_type": "code",
   "execution_count": 3,
   "metadata": {},
   "outputs": [
    {
     "data": {
      "text/html": [
       "<div>\n",
       "<style scoped>\n",
       "    .dataframe tbody tr th:only-of-type {\n",
       "        vertical-align: middle;\n",
       "    }\n",
       "\n",
       "    .dataframe tbody tr th {\n",
       "        vertical-align: top;\n",
       "    }\n",
       "\n",
       "    .dataframe thead th {\n",
       "        text-align: right;\n",
       "    }\n",
       "</style>\n",
       "<table border=\"1\" class=\"dataframe\">\n",
       "  <thead>\n",
       "    <tr style=\"text-align: right;\">\n",
       "      <th></th>\n",
       "      <th>PassengerId</th>\n",
       "      <th>Survived</th>\n",
       "      <th>Pclass</th>\n",
       "      <th>Name</th>\n",
       "      <th>Sex</th>\n",
       "      <th>Age</th>\n",
       "      <th>SibSp</th>\n",
       "      <th>Parch</th>\n",
       "      <th>Ticket</th>\n",
       "      <th>Fare</th>\n",
       "      <th>Cabin</th>\n",
       "      <th>Embarked</th>\n",
       "    </tr>\n",
       "  </thead>\n",
       "  <tbody>\n",
       "    <tr>\n",
       "      <th>0</th>\n",
       "      <td>1</td>\n",
       "      <td>0</td>\n",
       "      <td>3</td>\n",
       "      <td>Braund, Mr. Owen Harris</td>\n",
       "      <td>male</td>\n",
       "      <td>22.0</td>\n",
       "      <td>1</td>\n",
       "      <td>0</td>\n",
       "      <td>A/5 21171</td>\n",
       "      <td>7.2500</td>\n",
       "      <td>NaN</td>\n",
       "      <td>S</td>\n",
       "    </tr>\n",
       "    <tr>\n",
       "      <th>1</th>\n",
       "      <td>2</td>\n",
       "      <td>1</td>\n",
       "      <td>1</td>\n",
       "      <td>Cumings, Mrs. John Bradley (Florence Briggs Th...</td>\n",
       "      <td>female</td>\n",
       "      <td>38.0</td>\n",
       "      <td>1</td>\n",
       "      <td>0</td>\n",
       "      <td>PC 17599</td>\n",
       "      <td>71.2833</td>\n",
       "      <td>C85</td>\n",
       "      <td>C</td>\n",
       "    </tr>\n",
       "    <tr>\n",
       "      <th>2</th>\n",
       "      <td>3</td>\n",
       "      <td>1</td>\n",
       "      <td>3</td>\n",
       "      <td>Heikkinen, Miss. Laina</td>\n",
       "      <td>female</td>\n",
       "      <td>26.0</td>\n",
       "      <td>0</td>\n",
       "      <td>0</td>\n",
       "      <td>STON/O2. 3101282</td>\n",
       "      <td>7.9250</td>\n",
       "      <td>NaN</td>\n",
       "      <td>S</td>\n",
       "    </tr>\n",
       "    <tr>\n",
       "      <th>3</th>\n",
       "      <td>4</td>\n",
       "      <td>1</td>\n",
       "      <td>1</td>\n",
       "      <td>Futrelle, Mrs. Jacques Heath (Lily May Peel)</td>\n",
       "      <td>female</td>\n",
       "      <td>35.0</td>\n",
       "      <td>1</td>\n",
       "      <td>0</td>\n",
       "      <td>113803</td>\n",
       "      <td>53.1000</td>\n",
       "      <td>C123</td>\n",
       "      <td>S</td>\n",
       "    </tr>\n",
       "    <tr>\n",
       "      <th>4</th>\n",
       "      <td>5</td>\n",
       "      <td>0</td>\n",
       "      <td>3</td>\n",
       "      <td>Allen, Mr. William Henry</td>\n",
       "      <td>male</td>\n",
       "      <td>35.0</td>\n",
       "      <td>0</td>\n",
       "      <td>0</td>\n",
       "      <td>373450</td>\n",
       "      <td>8.0500</td>\n",
       "      <td>NaN</td>\n",
       "      <td>S</td>\n",
       "    </tr>\n",
       "  </tbody>\n",
       "</table>\n",
       "</div>"
      ],
      "text/plain": [
       "   PassengerId  Survived  Pclass  \\\n",
       "0            1         0       3   \n",
       "1            2         1       1   \n",
       "2            3         1       3   \n",
       "3            4         1       1   \n",
       "4            5         0       3   \n",
       "\n",
       "                                                Name     Sex   Age  SibSp  \\\n",
       "0                            Braund, Mr. Owen Harris    male  22.0      1   \n",
       "1  Cumings, Mrs. John Bradley (Florence Briggs Th...  female  38.0      1   \n",
       "2                             Heikkinen, Miss. Laina  female  26.0      0   \n",
       "3       Futrelle, Mrs. Jacques Heath (Lily May Peel)  female  35.0      1   \n",
       "4                           Allen, Mr. William Henry    male  35.0      0   \n",
       "\n",
       "   Parch            Ticket     Fare Cabin Embarked  \n",
       "0      0         A/5 21171   7.2500   NaN        S  \n",
       "1      0          PC 17599  71.2833   C85        C  \n",
       "2      0  STON/O2. 3101282   7.9250   NaN        S  \n",
       "3      0            113803  53.1000  C123        S  \n",
       "4      0            373450   8.0500   NaN        S  "
      ]
     },
     "execution_count": 3,
     "metadata": {},
     "output_type": "execute_result"
    }
   ],
   "source": [
    "df.head()"
   ]
  },
  {
   "cell_type": "code",
   "execution_count": 4,
   "metadata": {},
   "outputs": [
    {
     "data": {
      "text/html": [
       "<div>\n",
       "<style scoped>\n",
       "    .dataframe tbody tr th:only-of-type {\n",
       "        vertical-align: middle;\n",
       "    }\n",
       "\n",
       "    .dataframe tbody tr th {\n",
       "        vertical-align: top;\n",
       "    }\n",
       "\n",
       "    .dataframe thead th {\n",
       "        text-align: right;\n",
       "    }\n",
       "</style>\n",
       "<table border=\"1\" class=\"dataframe\">\n",
       "  <thead>\n",
       "    <tr style=\"text-align: right;\">\n",
       "      <th></th>\n",
       "      <th>PassengerId</th>\n",
       "      <th>Survived</th>\n",
       "      <th>Pclass</th>\n",
       "      <th>Age</th>\n",
       "      <th>SibSp</th>\n",
       "      <th>Parch</th>\n",
       "      <th>Fare</th>\n",
       "    </tr>\n",
       "  </thead>\n",
       "  <tbody>\n",
       "    <tr>\n",
       "      <th>count</th>\n",
       "      <td>891.000000</td>\n",
       "      <td>891.000000</td>\n",
       "      <td>891.000000</td>\n",
       "      <td>714.000000</td>\n",
       "      <td>891.000000</td>\n",
       "      <td>891.000000</td>\n",
       "      <td>891.000000</td>\n",
       "    </tr>\n",
       "    <tr>\n",
       "      <th>mean</th>\n",
       "      <td>446.000000</td>\n",
       "      <td>0.383838</td>\n",
       "      <td>2.308642</td>\n",
       "      <td>29.699118</td>\n",
       "      <td>0.523008</td>\n",
       "      <td>0.381594</td>\n",
       "      <td>32.204208</td>\n",
       "    </tr>\n",
       "    <tr>\n",
       "      <th>std</th>\n",
       "      <td>257.353842</td>\n",
       "      <td>0.486592</td>\n",
       "      <td>0.836071</td>\n",
       "      <td>14.526497</td>\n",
       "      <td>1.102743</td>\n",
       "      <td>0.806057</td>\n",
       "      <td>49.693429</td>\n",
       "    </tr>\n",
       "    <tr>\n",
       "      <th>min</th>\n",
       "      <td>1.000000</td>\n",
       "      <td>0.000000</td>\n",
       "      <td>1.000000</td>\n",
       "      <td>0.420000</td>\n",
       "      <td>0.000000</td>\n",
       "      <td>0.000000</td>\n",
       "      <td>0.000000</td>\n",
       "    </tr>\n",
       "    <tr>\n",
       "      <th>25%</th>\n",
       "      <td>223.500000</td>\n",
       "      <td>0.000000</td>\n",
       "      <td>2.000000</td>\n",
       "      <td>20.125000</td>\n",
       "      <td>0.000000</td>\n",
       "      <td>0.000000</td>\n",
       "      <td>7.910400</td>\n",
       "    </tr>\n",
       "    <tr>\n",
       "      <th>50%</th>\n",
       "      <td>446.000000</td>\n",
       "      <td>0.000000</td>\n",
       "      <td>3.000000</td>\n",
       "      <td>28.000000</td>\n",
       "      <td>0.000000</td>\n",
       "      <td>0.000000</td>\n",
       "      <td>14.454200</td>\n",
       "    </tr>\n",
       "    <tr>\n",
       "      <th>75%</th>\n",
       "      <td>668.500000</td>\n",
       "      <td>1.000000</td>\n",
       "      <td>3.000000</td>\n",
       "      <td>38.000000</td>\n",
       "      <td>1.000000</td>\n",
       "      <td>0.000000</td>\n",
       "      <td>31.000000</td>\n",
       "    </tr>\n",
       "    <tr>\n",
       "      <th>max</th>\n",
       "      <td>891.000000</td>\n",
       "      <td>1.000000</td>\n",
       "      <td>3.000000</td>\n",
       "      <td>80.000000</td>\n",
       "      <td>8.000000</td>\n",
       "      <td>6.000000</td>\n",
       "      <td>512.329200</td>\n",
       "    </tr>\n",
       "  </tbody>\n",
       "</table>\n",
       "</div>"
      ],
      "text/plain": [
       "       PassengerId    Survived      Pclass         Age       SibSp  \\\n",
       "count   891.000000  891.000000  891.000000  714.000000  891.000000   \n",
       "mean    446.000000    0.383838    2.308642   29.699118    0.523008   \n",
       "std     257.353842    0.486592    0.836071   14.526497    1.102743   \n",
       "min       1.000000    0.000000    1.000000    0.420000    0.000000   \n",
       "25%     223.500000    0.000000    2.000000   20.125000    0.000000   \n",
       "50%     446.000000    0.000000    3.000000   28.000000    0.000000   \n",
       "75%     668.500000    1.000000    3.000000   38.000000    1.000000   \n",
       "max     891.000000    1.000000    3.000000   80.000000    8.000000   \n",
       "\n",
       "            Parch        Fare  \n",
       "count  891.000000  891.000000  \n",
       "mean     0.381594   32.204208  \n",
       "std      0.806057   49.693429  \n",
       "min      0.000000    0.000000  \n",
       "25%      0.000000    7.910400  \n",
       "50%      0.000000   14.454200  \n",
       "75%      0.000000   31.000000  \n",
       "max      6.000000  512.329200  "
      ]
     },
     "execution_count": 4,
     "metadata": {},
     "output_type": "execute_result"
    }
   ],
   "source": [
    "df.describe()"
   ]
  },
  {
   "cell_type": "code",
   "execution_count": 5,
   "metadata": {},
   "outputs": [
    {
     "data": {
      "text/plain": [
       "(891, 12)"
      ]
     },
     "execution_count": 5,
     "metadata": {},
     "output_type": "execute_result"
    }
   ],
   "source": [
    "df.shape"
   ]
  },
  {
   "cell_type": "code",
   "execution_count": 6,
   "metadata": {},
   "outputs": [
    {
     "data": {
      "text/plain": [
       "PassengerId      0\n",
       "Survived         0\n",
       "Pclass           0\n",
       "Name             0\n",
       "Sex              0\n",
       "Age            177\n",
       "SibSp            0\n",
       "Parch            0\n",
       "Ticket           0\n",
       "Fare             0\n",
       "Cabin          687\n",
       "Embarked         2\n",
       "dtype: int64"
      ]
     },
     "execution_count": 6,
     "metadata": {},
     "output_type": "execute_result"
    }
   ],
   "source": [
    "df.isnull().sum()"
   ]
  },
  {
   "cell_type": "code",
   "execution_count": null,
   "metadata": {},
   "outputs": [],
   "source": []
  },
  {
   "cell_type": "markdown",
   "metadata": {},
   "source": [
    "# 1. survivers vs non survivers"
   ]
  },
  {
   "cell_type": "code",
   "execution_count": 7,
   "metadata": {},
   "outputs": [
    {
     "name": "stdout",
     "output_type": "stream",
     "text": [
      "surviver : 342, unsuviver : 549\n",
      "surviver_percentage : 38.38383838383838, unsurviver_percentage : 61.61616161616161\n"
     ]
    }
   ],
   "source": [
    "surviver_unsurvivor_counts = df.groupby('Survived')\n",
    "#surviver_unsurvivor_counts.count()\n",
    "surviver_count = surviver_unsurvivor_counts.count()['PassengerId'].iloc[1]\n",
    "unsurviver_count = surviver_unsurvivor_counts.count()['PassengerId'].iloc[0]\n",
    "total_count = surviver_count + unsurviver_count\n",
    "surviver_percentage = (surviver_count / (total_count))*100\n",
    "unsurviver_percentage = (unsurviver_count / (total_count))*100\n",
    "print('surviver : {}, unsuviver : {}'.format(surviver_count, unsurviver_count))\n",
    "print('surviver_percentage : {}, unsurviver_percentage : {}'.format(surviver_percentage, unsurviver_percentage))"
   ]
  },
  {
   "cell_type": "code",
   "execution_count": 8,
   "metadata": {},
   "outputs": [
    {
     "data": {
      "text/plain": [
       "Text(0.5,1,'survived vs non survived fare avg')"
      ]
     },
     "execution_count": 8,
     "metadata": {},
     "output_type": "execute_result"
    },
    {
     "data": {
      "image/png": "[encoded data removed]",
      "text/plain": [
       "<Figure size 1080x360 with 3 Axes>"
      ]
     },
     "metadata": {},
     "output_type": "display_data"
    }
   ],
   "source": [
    "fig, ax = plt.subplots(1, 3, figsize=(15,5))\n",
    "sns.countplot(x = 'Survived', data = df, ax = ax[0])\n",
    "ax[0].set_title('survived vs non survived count')\n",
    "df['Survived'].value_counts().plot.pie(explode = [0, 0.1], autopct = '%1.1f%%', ax = ax[1])\n",
    "ax[1].set_title('Survived vs unsurvived percentage')\n",
    "sns.barplot(x=\"Survived\", y=\"Fare\", data = df, ax = ax[2])\n",
    "ax[2].set_title('survived vs non survived fare avg')"
   ]
  },
  {
   "cell_type": "markdown",
   "metadata": {},
   "source": [
    "# 2. Female vs male surviver"
   ]
  },
  {
   "cell_type": "markdown",
   "metadata": {},
   "source": [
    "##### 1. Total Male counts vs Female counts"
   ]
  },
  {
   "cell_type": "code",
   "execution_count": 9,
   "metadata": {},
   "outputs": [
    {
     "name": "stdout",
     "output_type": "stream",
     "text": [
      "males : 577, females : 314\n"
     ]
    }
   ],
   "source": [
    "groupby_sex = df.groupby('Sex')\n",
    "female_count = groupby_sex.count()['PassengerId'][0]\n",
    "male_count = groupby_sex.count()['PassengerId'][1]\n",
    "print('males : {}, females : {}'.format(male_count, female_count))"
   ]
  },
  {
   "cell_type": "markdown",
   "metadata": {},
   "source": [
    "##### 2. Overall male  vs female surviver counts"
   ]
  },
  {
   "cell_type": "code",
   "execution_count": 10,
   "metadata": {},
   "outputs": [],
   "source": [
    "groupby_sex_surviver = df.groupby(['Sex', 'Survived'])"
   ]
  },
  {
   "cell_type": "code",
   "execution_count": 11,
   "metadata": {},
   "outputs": [
    {
     "data": {
      "text/html": [
       "<div>\n",
       "<style scoped>\n",
       "    .dataframe tbody tr th:only-of-type {\n",
       "        vertical-align: middle;\n",
       "    }\n",
       "\n",
       "    .dataframe tbody tr th {\n",
       "        vertical-align: top;\n",
       "    }\n",
       "\n",
       "    .dataframe thead th {\n",
       "        text-align: right;\n",
       "    }\n",
       "</style>\n",
       "<table border=\"1\" class=\"dataframe\">\n",
       "  <thead>\n",
       "    <tr style=\"text-align: right;\">\n",
       "      <th></th>\n",
       "      <th></th>\n",
       "      <th>PassengerId</th>\n",
       "      <th>Pclass</th>\n",
       "      <th>Name</th>\n",
       "      <th>Age</th>\n",
       "      <th>SibSp</th>\n",
       "      <th>Parch</th>\n",
       "      <th>Ticket</th>\n",
       "      <th>Fare</th>\n",
       "      <th>Cabin</th>\n",
       "      <th>Embarked</th>\n",
       "    </tr>\n",
       "    <tr>\n",
       "      <th>Sex</th>\n",
       "      <th>Survived</th>\n",
       "      <th></th>\n",
       "      <th></th>\n",
       "      <th></th>\n",
       "      <th></th>\n",
       "      <th></th>\n",
       "      <th></th>\n",
       "      <th></th>\n",
       "      <th></th>\n",
       "      <th></th>\n",
       "      <th></th>\n",
       "    </tr>\n",
       "  </thead>\n",
       "  <tbody>\n",
       "    <tr>\n",
       "      <th rowspan=\"2\" valign=\"top\">female</th>\n",
       "      <th>0</th>\n",
       "      <td>81</td>\n",
       "      <td>81</td>\n",
       "      <td>81</td>\n",
       "      <td>64</td>\n",
       "      <td>81</td>\n",
       "      <td>81</td>\n",
       "      <td>81</td>\n",
       "      <td>81</td>\n",
       "      <td>6</td>\n",
       "      <td>81</td>\n",
       "    </tr>\n",
       "    <tr>\n",
       "      <th>1</th>\n",
       "      <td>233</td>\n",
       "      <td>233</td>\n",
       "      <td>233</td>\n",
       "      <td>197</td>\n",
       "      <td>233</td>\n",
       "      <td>233</td>\n",
       "      <td>233</td>\n",
       "      <td>233</td>\n",
       "      <td>91</td>\n",
       "      <td>231</td>\n",
       "    </tr>\n",
       "    <tr>\n",
       "      <th rowspan=\"2\" valign=\"top\">male</th>\n",
       "      <th>0</th>\n",
       "      <td>468</td>\n",
       "      <td>468</td>\n",
       "      <td>468</td>\n",
       "      <td>360</td>\n",
       "      <td>468</td>\n",
       "      <td>468</td>\n",
       "      <td>468</td>\n",
       "      <td>468</td>\n",
       "      <td>62</td>\n",
       "      <td>468</td>\n",
       "    </tr>\n",
       "    <tr>\n",
       "      <th>1</th>\n",
       "      <td>109</td>\n",
       "      <td>109</td>\n",
       "      <td>109</td>\n",
       "      <td>93</td>\n",
       "      <td>109</td>\n",
       "      <td>109</td>\n",
       "      <td>109</td>\n",
       "      <td>109</td>\n",
       "      <td>45</td>\n",
       "      <td>109</td>\n",
       "    </tr>\n",
       "  </tbody>\n",
       "</table>\n",
       "</div>"
      ],
      "text/plain": [
       "                 PassengerId  Pclass  Name  Age  SibSp  Parch  Ticket  Fare  \\\n",
       "Sex    Survived                                                               \n",
       "female 0                  81      81    81   64     81     81      81    81   \n",
       "       1                 233     233   233  197    233    233     233   233   \n",
       "male   0                 468     468   468  360    468    468     468   468   \n",
       "       1                 109     109   109   93    109    109     109   109   \n",
       "\n",
       "                 Cabin  Embarked  \n",
       "Sex    Survived                   \n",
       "female 0             6        81  \n",
       "       1            91       231  \n",
       "male   0            62       468  \n",
       "       1            45       109  "
      ]
     },
     "execution_count": 11,
     "metadata": {},
     "output_type": "execute_result"
    }
   ],
   "source": [
    "groupby_sex_surviver.count()"
   ]
  },
  {
   "cell_type": "code",
   "execution_count": 12,
   "metadata": {},
   "outputs": [
    {
     "name": "stdout",
     "output_type": "stream",
     "text": [
      "Male survived : 109, Male unsurvived : 468\n",
      "Female survived : 233, Female unsurvived : 81\n"
     ]
    }
   ],
   "source": [
    "female_survived_count = groupby_sex_surviver.count()['PassengerId'].loc['female'][1]\n",
    "female_unsurvived_count = groupby_sex_surviver.count()['PassengerId'].loc['female'][0]\n",
    "male_survived_count = groupby_sex_surviver.count()['PassengerId'].loc['male'][1]\n",
    "male_unsurvived_count = groupby_sex_surviver.count()['PassengerId'].loc['male'][0]\n",
    "print('Male survived : {}, Male unsurvived : {}'.format(male_survived_count, male_unsurvived_count))\n",
    "print('Female survived : {}, Female unsurvived : {}'.format(female_survived_count, female_unsurvived_count))"
   ]
  },
  {
   "cell_type": "code",
   "execution_count": 13,
   "metadata": {},
   "outputs": [
    {
     "data": {
      "text/plain": [
       "Text(0.5,1,'Overall male vs female surviver counts')"
      ]
     },
     "execution_count": 13,
     "metadata": {},
     "output_type": "execute_result"
    },
    {
     "data": {
      "image/png": "[encoded data removed]",
      "text/plain": [
       "<Figure size 1080x360 with 2 Axes>"
      ]
     },
     "metadata": {},
     "output_type": "display_data"
    }
   ],
   "source": [
    "fig, ax = plt.subplots(1, 2, figsize=(15,5))\n",
    "sns.countplot(x = 'Sex', data = df,  ax=ax[0])\n",
    "ax[0].set_title('Total Male counts vs Female counts')\n",
    "sns.countplot(x = 'Sex', hue = 'Survived', data = df, ax = ax[1])\n",
    "ax[1].set_title('Overall male vs female surviver counts')"
   ]
  },
  {
   "cell_type": "markdown",
   "metadata": {},
   "source": [
    "# 3. PClass"
   ]
  },
  {
   "cell_type": "markdown",
   "metadata": {},
   "source": [
    "#### 1. counts of each class(survived vs unsurvived)"
   ]
  },
  {
   "cell_type": "code",
   "execution_count": 14,
   "metadata": {},
   "outputs": [
    {
     "name": "stdout",
     "output_type": "stream",
     "text": [
      "First class : 216, Second class :184, Third class: 491\n"
     ]
    },
    {
     "data": {
      "text/html": [
       "<div>\n",
       "<style scoped>\n",
       "    .dataframe tbody tr th:only-of-type {\n",
       "        vertical-align: middle;\n",
       "    }\n",
       "\n",
       "    .dataframe tbody tr th {\n",
       "        vertical-align: top;\n",
       "    }\n",
       "\n",
       "    .dataframe thead th {\n",
       "        text-align: right;\n",
       "    }\n",
       "</style>\n",
       "<table border=\"1\" class=\"dataframe\">\n",
       "  <thead>\n",
       "    <tr style=\"text-align: right;\">\n",
       "      <th></th>\n",
       "      <th>PassengerId</th>\n",
       "      <th>Survived</th>\n",
       "      <th>Name</th>\n",
       "      <th>Sex</th>\n",
       "      <th>Age</th>\n",
       "      <th>SibSp</th>\n",
       "      <th>Parch</th>\n",
       "      <th>Ticket</th>\n",
       "      <th>Fare</th>\n",
       "      <th>Cabin</th>\n",
       "      <th>Embarked</th>\n",
       "    </tr>\n",
       "    <tr>\n",
       "      <th>Pclass</th>\n",
       "      <th></th>\n",
       "      <th></th>\n",
       "      <th></th>\n",
       "      <th></th>\n",
       "      <th></th>\n",
       "      <th></th>\n",
       "      <th></th>\n",
       "      <th></th>\n",
       "      <th></th>\n",
       "      <th></th>\n",
       "      <th></th>\n",
       "    </tr>\n",
       "  </thead>\n",
       "  <tbody>\n",
       "    <tr>\n",
       "      <th>1</th>\n",
       "      <td>216</td>\n",
       "      <td>216</td>\n",
       "      <td>216</td>\n",
       "      <td>216</td>\n",
       "      <td>186</td>\n",
       "      <td>216</td>\n",
       "      <td>216</td>\n",
       "      <td>216</td>\n",
       "      <td>216</td>\n",
       "      <td>176</td>\n",
       "      <td>214</td>\n",
       "    </tr>\n",
       "    <tr>\n",
       "      <th>2</th>\n",
       "      <td>184</td>\n",
       "      <td>184</td>\n",
       "      <td>184</td>\n",
       "      <td>184</td>\n",
       "      <td>173</td>\n",
       "      <td>184</td>\n",
       "      <td>184</td>\n",
       "      <td>184</td>\n",
       "      <td>184</td>\n",
       "      <td>16</td>\n",
       "      <td>184</td>\n",
       "    </tr>\n",
       "    <tr>\n",
       "      <th>3</th>\n",
       "      <td>491</td>\n",
       "      <td>491</td>\n",
       "      <td>491</td>\n",
       "      <td>491</td>\n",
       "      <td>355</td>\n",
       "      <td>491</td>\n",
       "      <td>491</td>\n",
       "      <td>491</td>\n",
       "      <td>491</td>\n",
       "      <td>12</td>\n",
       "      <td>491</td>\n",
       "    </tr>\n",
       "  </tbody>\n",
       "</table>\n",
       "</div>"
      ],
      "text/plain": [
       "        PassengerId  Survived  Name  Sex  Age  SibSp  Parch  Ticket  Fare  \\\n",
       "Pclass                                                                      \n",
       "1               216       216   216  216  186    216    216     216   216   \n",
       "2               184       184   184  184  173    184    184     184   184   \n",
       "3               491       491   491  491  355    491    491     491   491   \n",
       "\n",
       "        Cabin  Embarked  \n",
       "Pclass                   \n",
       "1         176       214  \n",
       "2          16       184  \n",
       "3          12       491  "
      ]
     },
     "execution_count": 14,
     "metadata": {},
     "output_type": "execute_result"
    }
   ],
   "source": [
    "groupby_pclass = df.groupby('Pclass')\n",
    "first_class_count = groupby_pclass.count()['PassengerId'].iloc[0]\n",
    "second_class_count = groupby_pclass.count()['PassengerId'].iloc[1]\n",
    "third_class_count = groupby_pclass.count()['PassengerId'].iloc[2]\n",
    "print('First class : {}, Second class :{}, Third class: {}'.format(first_class_count, second_class_count, third_class_count))\n",
    "groupby_pclass.count()"
   ]
  },
  {
   "cell_type": "code",
   "execution_count": 15,
   "metadata": {},
   "outputs": [
    {
     "data": {
      "text/plain": [
       "Pclass  Sex     Survived\n",
       "1       female  0             3\n",
       "                1            91\n",
       "        male    0            77\n",
       "                1            45\n",
       "2       female  0             6\n",
       "                1            70\n",
       "        male    0            91\n",
       "                1            17\n",
       "3       female  0            72\n",
       "                1            72\n",
       "        male    0           300\n",
       "                1            47\n",
       "Name: PassengerId, dtype: int64"
      ]
     },
     "execution_count": 15,
     "metadata": {},
     "output_type": "execute_result"
    }
   ],
   "source": [
    "groupby_pclass_sex = df.groupby(['Pclass', 'Sex', 'Survived'])['PassengerId']\n",
    "groupby_pclass_sex.count()"
   ]
  },
  {
   "cell_type": "code",
   "execution_count": 16,
   "metadata": {},
   "outputs": [
    {
     "data": {
      "text/plain": [
       "Text(0.5,1,'counts of each class(survived vs unsurvived)')"
      ]
     },
     "execution_count": 16,
     "metadata": {},
     "output_type": "execute_result"
    },
    {
     "data": {
      "image/png": "[encoded data removed]",
      "text/plain": [
       "<Figure size 1080x504 with 2 Axes>"
      ]
     },
     "metadata": {},
     "output_type": "display_data"
    }
   ],
   "source": [
    "fig, ax = plt.subplots(1, 2, figsize=(15,7))\n",
    "sns.countplot(x = 'Pclass', data = df, ax = ax[0])\n",
    "ax[0].set_title('counts of each class')\n",
    "\n",
    "sns.countplot(x = 'Pclass', hue = 'Survived', data = df, ax=ax[1])\n",
    "ax[1].set_title('counts of each class(survived vs unsurvived)')\n"
   ]
  },
  {
   "cell_type": "code",
   "execution_count": 17,
   "metadata": {},
   "outputs": [
    {
     "data": {
      "text/html": [
       "<style  type=\"text/css\" >\n",
       "    #T_996a37e8_c973_11e8_bffa_1234567890abrow0_col0 {\n",
       "            background-color:  #ffff66;\n",
       "        }    #T_996a37e8_c973_11e8_bffa_1234567890abrow0_col1 {\n",
       "            background-color:  #ffff66;\n",
       "        }    #T_996a37e8_c973_11e8_bffa_1234567890abrow0_col2 {\n",
       "            background-color:  #f1f866;\n",
       "        }    #T_996a37e8_c973_11e8_bffa_1234567890abrow0_col3 {\n",
       "            background-color:  #ffff66;\n",
       "        }    #T_996a37e8_c973_11e8_bffa_1234567890abrow1_col0 {\n",
       "            background-color:  #96cb66;\n",
       "        }    #T_996a37e8_c973_11e8_bffa_1234567890abrow1_col1 {\n",
       "            background-color:  #a3d166;\n",
       "        }    #T_996a37e8_c973_11e8_bffa_1234567890abrow1_col2 {\n",
       "            background-color:  #f1f866;\n",
       "        }    #T_996a37e8_c973_11e8_bffa_1234567890abrow1_col3 {\n",
       "            background-color:  #cfe766;\n",
       "        }    #T_996a37e8_c973_11e8_bffa_1234567890abrow2_col0 {\n",
       "            background-color:  #a7d366;\n",
       "        }    #T_996a37e8_c973_11e8_bffa_1234567890abrow2_col1 {\n",
       "            background-color:  #85c266;\n",
       "        }    #T_996a37e8_c973_11e8_bffa_1234567890abrow2_col2 {\n",
       "            background-color:  #6eb666;\n",
       "        }    #T_996a37e8_c973_11e8_bffa_1234567890abrow2_col3 {\n",
       "            background-color:  #85c266;\n",
       "        }    #T_996a37e8_c973_11e8_bffa_1234567890abrow3_col0 {\n",
       "            background-color:  #cde666;\n",
       "        }    #T_996a37e8_c973_11e8_bffa_1234567890abrow3_col1 {\n",
       "            background-color:  #f0f866;\n",
       "        }    #T_996a37e8_c973_11e8_bffa_1234567890abrow3_col2 {\n",
       "            background-color:  #ffff66;\n",
       "        }    #T_996a37e8_c973_11e8_bffa_1234567890abrow3_col3 {\n",
       "            background-color:  #f7fb66;\n",
       "        }    #T_996a37e8_c973_11e8_bffa_1234567890abrow4_col0 {\n",
       "            background-color:  #008066;\n",
       "        }    #T_996a37e8_c973_11e8_bffa_1234567890abrow4_col1 {\n",
       "            background-color:  #008066;\n",
       "        }    #T_996a37e8_c973_11e8_bffa_1234567890abrow4_col2 {\n",
       "            background-color:  #008066;\n",
       "        }    #T_996a37e8_c973_11e8_bffa_1234567890abrow4_col3 {\n",
       "            background-color:  #008066;\n",
       "        }</style>  \n",
       "<table id=\"T_996a37e8_c973_11e8_bffa_1234567890ab\" > \n",
       "<thead>    <tr> \n",
       "        <th class=\"blank\" ></th> \n",
       "        <th class=\"index_name level0\" >Pclass</th> \n",
       "        <th class=\"col_heading level0 col0\" >1</th> \n",
       "        <th class=\"col_heading level0 col1\" >2</th> \n",
       "        <th class=\"col_heading level0 col2\" >3</th> \n",
       "        <th class=\"col_heading level0 col3\" >All</th> \n",
       "    </tr>    <tr> \n",
       "        <th class=\"index_name level0\" >Sex</th> \n",
       "        <th class=\"index_name level1\" >Survived</th> \n",
       "        <th class=\"blank\" ></th> \n",
       "        <th class=\"blank\" ></th> \n",
       "        <th class=\"blank\" ></th> \n",
       "        <th class=\"blank\" ></th> \n",
       "    </tr></thead> \n",
       "<tbody>    <tr> \n",
       "        <th id=\"T_996a37e8_c973_11e8_bffa_1234567890ablevel0_row0\" class=\"row_heading level0 row0\" rowspan=2>female</th> \n",
       "        <th id=\"T_996a37e8_c973_11e8_bffa_1234567890ablevel1_row0\" class=\"row_heading level1 row0\" >0</th> \n",
       "        <td id=\"T_996a37e8_c973_11e8_bffa_1234567890abrow0_col0\" class=\"data row0 col0\" >3</td> \n",
       "        <td id=\"T_996a37e8_c973_11e8_bffa_1234567890abrow0_col1\" class=\"data row0 col1\" >6</td> \n",
       "        <td id=\"T_996a37e8_c973_11e8_bffa_1234567890abrow0_col2\" class=\"data row0 col2\" >72</td> \n",
       "        <td id=\"T_996a37e8_c973_11e8_bffa_1234567890abrow0_col3\" class=\"data row0 col3\" >81</td> \n",
       "    </tr>    <tr> \n",
       "        <th id=\"T_996a37e8_c973_11e8_bffa_1234567890ablevel1_row1\" class=\"row_heading level1 row1\" >1</th> \n",
       "        <td id=\"T_996a37e8_c973_11e8_bffa_1234567890abrow1_col0\" class=\"data row1 col0\" >91</td> \n",
       "        <td id=\"T_996a37e8_c973_11e8_bffa_1234567890abrow1_col1\" class=\"data row1 col1\" >70</td> \n",
       "        <td id=\"T_996a37e8_c973_11e8_bffa_1234567890abrow1_col2\" class=\"data row1 col2\" >72</td> \n",
       "        <td id=\"T_996a37e8_c973_11e8_bffa_1234567890abrow1_col3\" class=\"data row1 col3\" >233</td> \n",
       "    </tr>    <tr> \n",
       "        <th id=\"T_996a37e8_c973_11e8_bffa_1234567890ablevel0_row2\" class=\"row_heading level0 row2\" rowspan=2>male</th> \n",
       "        <th id=\"T_996a37e8_c973_11e8_bffa_1234567890ablevel1_row2\" class=\"row_heading level1 row2\" >0</th> \n",
       "        <td id=\"T_996a37e8_c973_11e8_bffa_1234567890abrow2_col0\" class=\"data row2 col0\" >77</td> \n",
       "        <td id=\"T_996a37e8_c973_11e8_bffa_1234567890abrow2_col1\" class=\"data row2 col1\" >91</td> \n",
       "        <td id=\"T_996a37e8_c973_11e8_bffa_1234567890abrow2_col2\" class=\"data row2 col2\" >300</td> \n",
       "        <td id=\"T_996a37e8_c973_11e8_bffa_1234567890abrow2_col3\" class=\"data row2 col3\" >468</td> \n",
       "    </tr>    <tr> \n",
       "        <th id=\"T_996a37e8_c973_11e8_bffa_1234567890ablevel1_row3\" class=\"row_heading level1 row3\" >1</th> \n",
       "        <td id=\"T_996a37e8_c973_11e8_bffa_1234567890abrow3_col0\" class=\"data row3 col0\" >45</td> \n",
       "        <td id=\"T_996a37e8_c973_11e8_bffa_1234567890abrow3_col1\" class=\"data row3 col1\" >17</td> \n",
       "        <td id=\"T_996a37e8_c973_11e8_bffa_1234567890abrow3_col2\" class=\"data row3 col2\" >47</td> \n",
       "        <td id=\"T_996a37e8_c973_11e8_bffa_1234567890abrow3_col3\" class=\"data row3 col3\" >109</td> \n",
       "    </tr>    <tr> \n",
       "        <th id=\"T_996a37e8_c973_11e8_bffa_1234567890ablevel0_row4\" class=\"row_heading level0 row4\" >All</th> \n",
       "        <th id=\"T_996a37e8_c973_11e8_bffa_1234567890ablevel1_row4\" class=\"row_heading level1 row4\" ></th> \n",
       "        <td id=\"T_996a37e8_c973_11e8_bffa_1234567890abrow4_col0\" class=\"data row4 col0\" >216</td> \n",
       "        <td id=\"T_996a37e8_c973_11e8_bffa_1234567890abrow4_col1\" class=\"data row4 col1\" >184</td> \n",
       "        <td id=\"T_996a37e8_c973_11e8_bffa_1234567890abrow4_col2\" class=\"data row4 col2\" >491</td> \n",
       "        <td id=\"T_996a37e8_c973_11e8_bffa_1234567890abrow4_col3\" class=\"data row4 col3\" >891</td> \n",
       "    </tr></tbody> \n",
       "</table> "
      ],
      "text/plain": [
       "<pandas.io.formats.style.Styler at 0x200f8835470>"
      ]
     },
     "execution_count": 17,
     "metadata": {},
     "output_type": "execute_result"
    }
   ],
   "source": [
    "pd.crosstab(index = [df.Sex, df.Survived], columns=df.Pclass, margins=True).style.background_gradient(cmap='summer_r')"
   ]
  },
  {
   "cell_type": "code",
   "execution_count": 18,
   "metadata": {},
   "outputs": [
    {
     "data": {
      "text/plain": [
       "<seaborn.axisgrid.FacetGrid at 0x200f90dcc88>"
      ]
     },
     "execution_count": 18,
     "metadata": {},
     "output_type": "execute_result"
    },
    {
     "data": {
      "image/png": "[encoded data removed]",
      "text/plain": [
       "<Figure size 358.5x288 with 1 Axes>"
      ]
     },
     "metadata": {},
     "output_type": "display_data"
    }
   ],
   "source": [
    "sns.factorplot(x = 'Pclass', y = 'Survived', hue = 'Sex', data = df)"
   ]
  },
  {
   "cell_type": "code",
   "execution_count": 19,
   "metadata": {},
   "outputs": [
    {
     "data": {
      "text/plain": [
       "<matplotlib.axes._subplots.AxesSubplot at 0x200f917e160>"
      ]
     },
     "execution_count": 19,
     "metadata": {},
     "output_type": "execute_result"
    },
    {
     "data": {
      "image/png": "[encoded data removed]",
      "text/plain": [
       "<Figure size 432x288 with 1 Axes>"
      ]
     },
     "metadata": {},
     "output_type": "display_data"
    }
   ],
   "source": [
    "sns.boxplot(x = 'Sex', y = 'Age', hue = 'Survived', data = df)"
   ]
  },
  {
   "cell_type": "code",
   "execution_count": 20,
   "metadata": {},
   "outputs": [
    {
     "data": {
      "text/plain": [
       "Text(0.5,1,'Sex and Pclass Vs surviver')"
      ]
     },
     "execution_count": 20,
     "metadata": {},
     "output_type": "execute_result"
    },
    {
     "data": {
      "image/png": "[encoded data removed]",
      "text/plain": [
       "<Figure size 1080x504 with 2 Axes>"
      ]
     },
     "metadata": {},
     "output_type": "display_data"
    }
   ],
   "source": [
    "fig, ax = plt.subplots(1, 2, figsize=(15,7))\n",
    "sns.violinplot(x = 'Pclass', y = 'Age', hue = 'Survived', split=True, data = df, ax = ax[0])\n",
    "ax[0].set_title('class and age Vs surviver')\n",
    "\n",
    "sns.violinplot(x = 'Sex', y = 'Pclass', hue = 'Survived', split=True, data = df, ax = ax[1])\n",
    "ax[1].set_title('Sex and Pclass Vs surviver')"
   ]
  },
  {
   "cell_type": "code",
   "execution_count": 21,
   "metadata": {},
   "outputs": [],
   "source": [
    "df['Initial'] = 0"
   ]
  },
  {
   "cell_type": "code",
   "execution_count": 22,
   "metadata": {},
   "outputs": [],
   "source": [
    "for i in df:\n",
    "    df['Initial']=df.Name.str.extract('([A-Za-z]+)\\.') #lets extract the Salutations"
   ]
  },
  {
   "cell_type": "code",
   "execution_count": 23,
   "metadata": {},
   "outputs": [
    {
     "data": {
      "text/plain": [
       "<matplotlib.axes._subplots.AxesSubplot at 0x200f9543f60>"
      ]
     },
     "execution_count": 23,
     "metadata": {},
     "output_type": "execute_result"
    },
    {
     "data": {
      "image/png": "[encoded data removed]",
      "text/plain": [
       "<Figure size 432x288 with 1 Axes>"
      ]
     },
     "metadata": {},
     "output_type": "display_data"
    }
   ],
   "source": [
    "sns.countplot(x = 'Initial', data = df, dodge=True)"
   ]
  },
  {
   "cell_type": "code",
   "execution_count": 24,
   "metadata": {},
   "outputs": [
    {
     "data": {
      "text/html": [
       "<style  type=\"text/css\" >\n",
       "    #T_9a7a4cca_c973_11e8_b0fa_1234567890abrow0_col0 {\n",
       "            background-color:  #ffff66;\n",
       "        }    #T_9a7a4cca_c973_11e8_b0fa_1234567890abrow0_col1 {\n",
       "            background-color:  #ffff66;\n",
       "        }    #T_9a7a4cca_c973_11e8_b0fa_1234567890abrow0_col2 {\n",
       "            background-color:  #008066;\n",
       "        }    #T_9a7a4cca_c973_11e8_b0fa_1234567890abrow0_col3 {\n",
       "            background-color:  #ffff66;\n",
       "        }    #T_9a7a4cca_c973_11e8_b0fa_1234567890abrow0_col4 {\n",
       "            background-color:  #ffff66;\n",
       "        }    #T_9a7a4cca_c973_11e8_b0fa_1234567890abrow0_col5 {\n",
       "            background-color:  #ffff66;\n",
       "        }    #T_9a7a4cca_c973_11e8_b0fa_1234567890abrow0_col6 {\n",
       "            background-color:  #008066;\n",
       "        }    #T_9a7a4cca_c973_11e8_b0fa_1234567890abrow0_col7 {\n",
       "            background-color:  #ffff66;\n",
       "        }    #T_9a7a4cca_c973_11e8_b0fa_1234567890abrow0_col8 {\n",
       "            background-color:  #ffff66;\n",
       "        }    #T_9a7a4cca_c973_11e8_b0fa_1234567890abrow0_col9 {\n",
       "            background-color:  #008066;\n",
       "        }    #T_9a7a4cca_c973_11e8_b0fa_1234567890abrow0_col10 {\n",
       "            background-color:  #008066;\n",
       "        }    #T_9a7a4cca_c973_11e8_b0fa_1234567890abrow0_col11 {\n",
       "            background-color:  #008066;\n",
       "        }    #T_9a7a4cca_c973_11e8_b0fa_1234567890abrow0_col12 {\n",
       "            background-color:  #ffff66;\n",
       "        }    #T_9a7a4cca_c973_11e8_b0fa_1234567890abrow0_col13 {\n",
       "            background-color:  #008066;\n",
       "        }    #T_9a7a4cca_c973_11e8_b0fa_1234567890abrow0_col14 {\n",
       "            background-color:  #008066;\n",
       "        }    #T_9a7a4cca_c973_11e8_b0fa_1234567890abrow0_col15 {\n",
       "            background-color:  #ffff66;\n",
       "        }    #T_9a7a4cca_c973_11e8_b0fa_1234567890abrow0_col16 {\n",
       "            background-color:  #ffff66;\n",
       "        }    #T_9a7a4cca_c973_11e8_b0fa_1234567890abrow1_col0 {\n",
       "            background-color:  #008066;\n",
       "        }    #T_9a7a4cca_c973_11e8_b0fa_1234567890abrow1_col1 {\n",
       "            background-color:  #008066;\n",
       "        }    #T_9a7a4cca_c973_11e8_b0fa_1234567890abrow1_col2 {\n",
       "            background-color:  #ffff66;\n",
       "        }    #T_9a7a4cca_c973_11e8_b0fa_1234567890abrow1_col3 {\n",
       "            background-color:  #008066;\n",
       "        }    #T_9a7a4cca_c973_11e8_b0fa_1234567890abrow1_col4 {\n",
       "            background-color:  #008066;\n",
       "        }    #T_9a7a4cca_c973_11e8_b0fa_1234567890abrow1_col5 {\n",
       "            background-color:  #008066;\n",
       "        }    #T_9a7a4cca_c973_11e8_b0fa_1234567890abrow1_col6 {\n",
       "            background-color:  #ffff66;\n",
       "        }    #T_9a7a4cca_c973_11e8_b0fa_1234567890abrow1_col7 {\n",
       "            background-color:  #008066;\n",
       "        }    #T_9a7a4cca_c973_11e8_b0fa_1234567890abrow1_col8 {\n",
       "            background-color:  #008066;\n",
       "        }    #T_9a7a4cca_c973_11e8_b0fa_1234567890abrow1_col9 {\n",
       "            background-color:  #ffff66;\n",
       "        }    #T_9a7a4cca_c973_11e8_b0fa_1234567890abrow1_col10 {\n",
       "            background-color:  #ffff66;\n",
       "        }    #T_9a7a4cca_c973_11e8_b0fa_1234567890abrow1_col11 {\n",
       "            background-color:  #ffff66;\n",
       "        }    #T_9a7a4cca_c973_11e8_b0fa_1234567890abrow1_col12 {\n",
       "            background-color:  #008066;\n",
       "        }    #T_9a7a4cca_c973_11e8_b0fa_1234567890abrow1_col13 {\n",
       "            background-color:  #ffff66;\n",
       "        }    #T_9a7a4cca_c973_11e8_b0fa_1234567890abrow1_col14 {\n",
       "            background-color:  #ffff66;\n",
       "        }    #T_9a7a4cca_c973_11e8_b0fa_1234567890abrow1_col15 {\n",
       "            background-color:  #008066;\n",
       "        }    #T_9a7a4cca_c973_11e8_b0fa_1234567890abrow1_col16 {\n",
       "            background-color:  #008066;\n",
       "        }</style>  \n",
       "<table id=\"T_9a7a4cca_c973_11e8_b0fa_1234567890ab\" > \n",
       "<thead>    <tr> \n",
       "        <th class=\"index_name level0\" >Initial</th> \n",
       "        <th class=\"col_heading level0 col0\" >Capt</th> \n",
       "        <th class=\"col_heading level0 col1\" >Col</th> \n",
       "        <th class=\"col_heading level0 col2\" >Countess</th> \n",
       "        <th class=\"col_heading level0 col3\" >Don</th> \n",
       "        <th class=\"col_heading level0 col4\" >Dr</th> \n",
       "        <th class=\"col_heading level0 col5\" >Jonkheer</th> \n",
       "        <th class=\"col_heading level0 col6\" >Lady</th> \n",
       "        <th class=\"col_heading level0 col7\" >Major</th> \n",
       "        <th class=\"col_heading level0 col8\" >Master</th> \n",
       "        <th class=\"col_heading level0 col9\" >Miss</th> \n",
       "        <th class=\"col_heading level0 col10\" >Mlle</th> \n",
       "        <th class=\"col_heading level0 col11\" >Mme</th> \n",
       "        <th class=\"col_heading level0 col12\" >Mr</th> \n",
       "        <th class=\"col_heading level0 col13\" >Mrs</th> \n",
       "        <th class=\"col_heading level0 col14\" >Ms</th> \n",
       "        <th class=\"col_heading level0 col15\" >Rev</th> \n",
       "        <th class=\"col_heading level0 col16\" >Sir</th> \n",
       "    </tr>    <tr> \n",
       "        <th class=\"index_name level0\" >Sex</th> \n",
       "        <th class=\"blank\" ></th> \n",
       "        <th class=\"blank\" ></th> \n",
       "        <th class=\"blank\" ></th> \n",
       "        <th class=\"blank\" ></th> \n",
       "        <th class=\"blank\" ></th> \n",
       "        <th class=\"blank\" ></th> \n",
       "        <th class=\"blank\" ></th> \n",
       "        <th class=\"blank\" ></th> \n",
       "        <th class=\"blank\" ></th> \n",
       "        <th class=\"blank\" ></th> \n",
       "        <th class=\"blank\" ></th> \n",
       "        <th class=\"blank\" ></th> \n",
       "        <th class=\"blank\" ></th> \n",
       "        <th class=\"blank\" ></th> \n",
       "        <th class=\"blank\" ></th> \n",
       "        <th class=\"blank\" ></th> \n",
       "        <th class=\"blank\" ></th> \n",
       "    </tr></thead> \n",
       "<tbody>    <tr> \n",
       "        <th id=\"T_9a7a4cca_c973_11e8_b0fa_1234567890ablevel0_row0\" class=\"row_heading level0 row0\" >female</th> \n",
       "        <td id=\"T_9a7a4cca_c973_11e8_b0fa_1234567890abrow0_col0\" class=\"data row0 col0\" >0</td> \n",
       "        <td id=\"T_9a7a4cca_c973_11e8_b0fa_1234567890abrow0_col1\" class=\"data row0 col1\" >0</td> \n",
       "        <td id=\"T_9a7a4cca_c973_11e8_b0fa_1234567890abrow0_col2\" class=\"data row0 col2\" >1</td> \n",
       "        <td id=\"T_9a7a4cca_c973_11e8_b0fa_1234567890abrow0_col3\" class=\"data row0 col3\" >0</td> \n",
       "        <td id=\"T_9a7a4cca_c973_11e8_b0fa_1234567890abrow0_col4\" class=\"data row0 col4\" >1</td> \n",
       "        <td id=\"T_9a7a4cca_c973_11e8_b0fa_1234567890abrow0_col5\" class=\"data row0 col5\" >0</td> \n",
       "        <td id=\"T_9a7a4cca_c973_11e8_b0fa_1234567890abrow0_col6\" class=\"data row0 col6\" >1</td> \n",
       "        <td id=\"T_9a7a4cca_c973_11e8_b0fa_1234567890abrow0_col7\" class=\"data row0 col7\" >0</td> \n",
       "        <td id=\"T_9a7a4cca_c973_11e8_b0fa_1234567890abrow0_col8\" class=\"data row0 col8\" >0</td> \n",
       "        <td id=\"T_9a7a4cca_c973_11e8_b0fa_1234567890abrow0_col9\" class=\"data row0 col9\" >182</td> \n",
       "        <td id=\"T_9a7a4cca_c973_11e8_b0fa_1234567890abrow0_col10\" class=\"data row0 col10\" >2</td> \n",
       "        <td id=\"T_9a7a4cca_c973_11e8_b0fa_1234567890abrow0_col11\" class=\"data row0 col11\" >1</td> \n",
       "        <td id=\"T_9a7a4cca_c973_11e8_b0fa_1234567890abrow0_col12\" class=\"data row0 col12\" >0</td> \n",
       "        <td id=\"T_9a7a4cca_c973_11e8_b0fa_1234567890abrow0_col13\" class=\"data row0 col13\" >125</td> \n",
       "        <td id=\"T_9a7a4cca_c973_11e8_b0fa_1234567890abrow0_col14\" class=\"data row0 col14\" >1</td> \n",
       "        <td id=\"T_9a7a4cca_c973_11e8_b0fa_1234567890abrow0_col15\" class=\"data row0 col15\" >0</td> \n",
       "        <td id=\"T_9a7a4cca_c973_11e8_b0fa_1234567890abrow0_col16\" class=\"data row0 col16\" >0</td> \n",
       "    </tr>    <tr> \n",
       "        <th id=\"T_9a7a4cca_c973_11e8_b0fa_1234567890ablevel0_row1\" class=\"row_heading level0 row1\" >male</th> \n",
       "        <td id=\"T_9a7a4cca_c973_11e8_b0fa_1234567890abrow1_col0\" class=\"data row1 col0\" >1</td> \n",
       "        <td id=\"T_9a7a4cca_c973_11e8_b0fa_1234567890abrow1_col1\" class=\"data row1 col1\" >2</td> \n",
       "        <td id=\"T_9a7a4cca_c973_11e8_b0fa_1234567890abrow1_col2\" class=\"data row1 col2\" >0</td> \n",
       "        <td id=\"T_9a7a4cca_c973_11e8_b0fa_1234567890abrow1_col3\" class=\"data row1 col3\" >1</td> \n",
       "        <td id=\"T_9a7a4cca_c973_11e8_b0fa_1234567890abrow1_col4\" class=\"data row1 col4\" >6</td> \n",
       "        <td id=\"T_9a7a4cca_c973_11e8_b0fa_1234567890abrow1_col5\" class=\"data row1 col5\" >1</td> \n",
       "        <td id=\"T_9a7a4cca_c973_11e8_b0fa_1234567890abrow1_col6\" class=\"data row1 col6\" >0</td> \n",
       "        <td id=\"T_9a7a4cca_c973_11e8_b0fa_1234567890abrow1_col7\" class=\"data row1 col7\" >2</td> \n",
       "        <td id=\"T_9a7a4cca_c973_11e8_b0fa_1234567890abrow1_col8\" class=\"data row1 col8\" >40</td> \n",
       "        <td id=\"T_9a7a4cca_c973_11e8_b0fa_1234567890abrow1_col9\" class=\"data row1 col9\" >0</td> \n",
       "        <td id=\"T_9a7a4cca_c973_11e8_b0fa_1234567890abrow1_col10\" class=\"data row1 col10\" >0</td> \n",
       "        <td id=\"T_9a7a4cca_c973_11e8_b0fa_1234567890abrow1_col11\" class=\"data row1 col11\" >0</td> \n",
       "        <td id=\"T_9a7a4cca_c973_11e8_b0fa_1234567890abrow1_col12\" class=\"data row1 col12\" >517</td> \n",
       "        <td id=\"T_9a7a4cca_c973_11e8_b0fa_1234567890abrow1_col13\" class=\"data row1 col13\" >0</td> \n",
       "        <td id=\"T_9a7a4cca_c973_11e8_b0fa_1234567890abrow1_col14\" class=\"data row1 col14\" >0</td> \n",
       "        <td id=\"T_9a7a4cca_c973_11e8_b0fa_1234567890abrow1_col15\" class=\"data row1 col15\" >6</td> \n",
       "        <td id=\"T_9a7a4cca_c973_11e8_b0fa_1234567890abrow1_col16\" class=\"data row1 col16\" >1</td> \n",
       "    </tr></tbody> \n",
       "</table> "
      ],
      "text/plain": [
       "<pandas.io.formats.style.Styler at 0x200f92b8e10>"
      ]
     },
     "execution_count": 24,
     "metadata": {},
     "output_type": "execute_result"
    }
   ],
   "source": [
    "pd.crosstab(df.Initial, df.Sex).T.style.background_gradient(cmap='summer_r')"
   ]
  },
  {
   "cell_type": "code",
   "execution_count": 25,
   "metadata": {},
   "outputs": [],
   "source": [
    "df['Initial'].replace(['Mlle','Mme','Ms','Dr','Major','Lady','Countess','Jonkheer','Col','Rev','Capt','Sir','Don'],['Miss','Miss','Miss','Mr','Mr','Mrs','Mrs','Other','Other','Other','Mr','Mr','Mr'], inplace = True)"
   ]
  },
  {
   "cell_type": "code",
   "execution_count": 26,
   "metadata": {},
   "outputs": [
    {
     "data": {
      "text/plain": [
       "Initial\n",
       "Master     4.574167\n",
       "Miss      21.860000\n",
       "Mr        32.739609\n",
       "Mrs       35.981818\n",
       "Other     45.888889\n",
       "Name: Age, dtype: float64"
      ]
     },
     "execution_count": 26,
     "metadata": {},
     "output_type": "execute_result"
    }
   ],
   "source": [
    "df.groupby('Initial')['Age'].mean()"
   ]
  },
  {
   "cell_type": "code",
   "execution_count": 27,
   "metadata": {},
   "outputs": [],
   "source": [
    "df.loc[(df.Age.isnull())&(df.Initial=='Mr'),'Age']=33\n",
    "df.loc[(df.Age.isnull())&(df.Initial=='Mrs'),'Age']=36\n",
    "df.loc[(df.Age.isnull())&(df.Initial=='Master'),'Age']=5\n",
    "df.loc[(df.Age.isnull())&(df.Initial=='Miss'),'Age']=22\n",
    "df.loc[(df.Age.isnull())&(df.Initial=='Other'),'Age']=46"
   ]
  },
  {
   "cell_type": "code",
   "execution_count": 28,
   "metadata": {},
   "outputs": [
    {
     "data": {
      "text/plain": [
       "0"
      ]
     },
     "execution_count": 28,
     "metadata": {},
     "output_type": "execute_result"
    }
   ],
   "source": [
    "df['Age'].isnull().sum()"
   ]
  },
  {
   "cell_type": "markdown",
   "metadata": {},
   "source": [
    "# Surviver vs non surviver histogram"
   ]
  },
  {
   "cell_type": "code",
   "execution_count": 29,
   "metadata": {},
   "outputs": [
    {
     "data": {
      "text/plain": [
       "Text(0.5,1,'Histogram for unsurviver(0)')"
      ]
     },
     "execution_count": 29,
     "metadata": {},
     "output_type": "execute_result"
    },
    {
     "data": {
      "image/png": "[encoded data removed]",
      "text/plain": [
       "<Figure size 1080x504 with 2 Axes>"
      ]
     },
     "metadata": {},
     "output_type": "display_data"
    }
   ],
   "source": [
    "fig, ax = plt.subplots(1, 2, figsize = (15, 7))\n",
    "ax[0].hist(x = df[df['Survived'] == 1]['Age'],bins = 20, color = 'Green',)\n",
    "ax[0].set_title('Histogram for surviver(1)')\n",
    "\n",
    "ax[1].hist(x = df[df['Survived'] == 0]['Age'],bins = 20, color = 'Red')\n",
    "ax[1].set_title('Histogram for unsurviver(0)')"
   ]
  },
  {
   "cell_type": "code",
   "execution_count": 30,
   "metadata": {},
   "outputs": [
    {
     "data": {
      "image/png": "[encoded data removed]",
      "text/plain": [
       "<Figure size 1440x288 with 5 Axes>"
      ]
     },
     "metadata": {},
     "output_type": "display_data"
    }
   ],
   "source": [
    "sns.factorplot(x = 'Pclass', y = 'Survived', col = 'Initial', data = df)\n",
    "plt.show()"
   ]
  },
  {
   "cell_type": "markdown",
   "metadata": {},
   "source": [
    "### Embarked"
   ]
  },
  {
   "cell_type": "code",
   "execution_count": 31,
   "metadata": {},
   "outputs": [
    {
     "data": {
      "text/html": [
       "<style  type=\"text/css\" >\n",
       "    #T_9bad57ba_c973_11e8_905c_1234567890abrow0_col0 {\n",
       "            background-color:  #fcfe66;\n",
       "        }    #T_9bad57ba_c973_11e8_905c_1234567890abrow0_col1 {\n",
       "            background-color:  #d2e866;\n",
       "        }    #T_9bad57ba_c973_11e8_905c_1234567890abrow0_col2 {\n",
       "            background-color:  #f2f866;\n",
       "        }    #T_9bad57ba_c973_11e8_905c_1234567890abrow0_col3 {\n",
       "            background-color:  #d8ec66;\n",
       "        }    #T_9bad57ba_c973_11e8_905c_1234567890abrow0_col4 {\n",
       "            background-color:  #e8f466;\n",
       "        }    #T_9bad57ba_c973_11e8_905c_1234567890abrow1_col0 {\n",
       "            background-color:  #ffff66;\n",
       "        }    #T_9bad57ba_c973_11e8_905c_1234567890abrow1_col1 {\n",
       "            background-color:  #f9fc66;\n",
       "        }    #T_9bad57ba_c973_11e8_905c_1234567890abrow1_col2 {\n",
       "            background-color:  #fcfe66;\n",
       "        }    #T_9bad57ba_c973_11e8_905c_1234567890abrow1_col3 {\n",
       "            background-color:  #fbfd66;\n",
       "        }    #T_9bad57ba_c973_11e8_905c_1234567890abrow1_col4 {\n",
       "            background-color:  #fbfd66;\n",
       "        }    #T_9bad57ba_c973_11e8_905c_1234567890abrow2_col0 {\n",
       "            background-color:  #e6f266;\n",
       "        }    #T_9bad57ba_c973_11e8_905c_1234567890abrow2_col1 {\n",
       "            background-color:  #f0f866;\n",
       "        }    #T_9bad57ba_c973_11e8_905c_1234567890abrow2_col2 {\n",
       "            background-color:  #eef666;\n",
       "        }    #T_9bad57ba_c973_11e8_905c_1234567890abrow2_col3 {\n",
       "            background-color:  #e8f466;\n",
       "        }    #T_9bad57ba_c973_11e8_905c_1234567890abrow2_col4 {\n",
       "            background-color:  #edf666;\n",
       "        }    #T_9bad57ba_c973_11e8_905c_1234567890abrow3_col0 {\n",
       "            background-color:  #ffff66;\n",
       "        }    #T_9bad57ba_c973_11e8_905c_1234567890abrow3_col1 {\n",
       "            background-color:  #ffff66;\n",
       "        }    #T_9bad57ba_c973_11e8_905c_1234567890abrow3_col2 {\n",
       "            background-color:  #ffff66;\n",
       "        }    #T_9bad57ba_c973_11e8_905c_1234567890abrow3_col3 {\n",
       "            background-color:  #ffff66;\n",
       "        }    #T_9bad57ba_c973_11e8_905c_1234567890abrow3_col4 {\n",
       "            background-color:  #ffff66;\n",
       "        }    #T_9bad57ba_c973_11e8_905c_1234567890abrow4_col0 {\n",
       "            background-color:  #ffff66;\n",
       "        }    #T_9bad57ba_c973_11e8_905c_1234567890abrow4_col1 {\n",
       "            background-color:  #fefe66;\n",
       "        }    #T_9bad57ba_c973_11e8_905c_1234567890abrow4_col2 {\n",
       "            background-color:  #ffff66;\n",
       "        }    #T_9bad57ba_c973_11e8_905c_1234567890abrow4_col3 {\n",
       "            background-color:  #ffff66;\n",
       "        }    #T_9bad57ba_c973_11e8_905c_1234567890abrow4_col4 {\n",
       "            background-color:  #ffff66;\n",
       "        }    #T_9bad57ba_c973_11e8_905c_1234567890abrow5_col0 {\n",
       "            background-color:  #e3f166;\n",
       "        }    #T_9bad57ba_c973_11e8_905c_1234567890abrow5_col1 {\n",
       "            background-color:  #e6f266;\n",
       "        }    #T_9bad57ba_c973_11e8_905c_1234567890abrow5_col2 {\n",
       "            background-color:  #ecf666;\n",
       "        }    #T_9bad57ba_c973_11e8_905c_1234567890abrow5_col3 {\n",
       "            background-color:  #f8fc66;\n",
       "        }    #T_9bad57ba_c973_11e8_905c_1234567890abrow5_col4 {\n",
       "            background-color:  #ebf566;\n",
       "        }    #T_9bad57ba_c973_11e8_905c_1234567890abrow6_col0 {\n",
       "            background-color:  #f9fc66;\n",
       "        }    #T_9bad57ba_c973_11e8_905c_1234567890abrow6_col1 {\n",
       "            background-color:  #cde666;\n",
       "        }    #T_9bad57ba_c973_11e8_905c_1234567890abrow6_col2 {\n",
       "            background-color:  #e4f266;\n",
       "        }    #T_9bad57ba_c973_11e8_905c_1234567890abrow6_col3 {\n",
       "            background-color:  #bede66;\n",
       "        }    #T_9bad57ba_c973_11e8_905c_1234567890abrow6_col4 {\n",
       "            background-color:  #dbed66;\n",
       "        }    #T_9bad57ba_c973_11e8_905c_1234567890abrow7_col0 {\n",
       "            background-color:  #edf666;\n",
       "        }    #T_9bad57ba_c973_11e8_905c_1234567890abrow7_col1 {\n",
       "            background-color:  #bdde66;\n",
       "        }    #T_9bad57ba_c973_11e8_905c_1234567890abrow7_col2 {\n",
       "            background-color:  #d3e966;\n",
       "        }    #T_9bad57ba_c973_11e8_905c_1234567890abrow7_col3 {\n",
       "            background-color:  #dcee66;\n",
       "        }    #T_9bad57ba_c973_11e8_905c_1234567890abrow7_col4 {\n",
       "            background-color:  #d1e866;\n",
       "        }    #T_9bad57ba_c973_11e8_905c_1234567890abrow8_col0 {\n",
       "            background-color:  #52a866;\n",
       "        }    #T_9bad57ba_c973_11e8_905c_1234567890abrow8_col1 {\n",
       "            background-color:  #dcee66;\n",
       "        }    #T_9bad57ba_c973_11e8_905c_1234567890abrow8_col2 {\n",
       "            background-color:  #81c066;\n",
       "        }    #T_9bad57ba_c973_11e8_905c_1234567890abrow8_col3 {\n",
       "            background-color:  #b0d866;\n",
       "        }    #T_9bad57ba_c973_11e8_905c_1234567890abrow8_col4 {\n",
       "            background-color:  #9acc66;\n",
       "        }    #T_9bad57ba_c973_11e8_905c_1234567890abrow9_col0 {\n",
       "            background-color:  #008066;\n",
       "        }    #T_9bad57ba_c973_11e8_905c_1234567890abrow9_col1 {\n",
       "            background-color:  #008066;\n",
       "        }    #T_9bad57ba_c973_11e8_905c_1234567890abrow9_col2 {\n",
       "            background-color:  #008066;\n",
       "        }    #T_9bad57ba_c973_11e8_905c_1234567890abrow9_col3 {\n",
       "            background-color:  #008066;\n",
       "        }    #T_9bad57ba_c973_11e8_905c_1234567890abrow9_col4 {\n",
       "            background-color:  #008066;\n",
       "        }</style>  \n",
       "<table id=\"T_9bad57ba_c973_11e8_905c_1234567890ab\" > \n",
       "<thead>    <tr> \n",
       "        <th class=\"blank\" ></th> \n",
       "        <th class=\"index_name level0\" >Sex</th> \n",
       "        <th class=\"col_heading level0 col0\" colspan=2>female</th> \n",
       "        <th class=\"col_heading level0 col2\" colspan=2>male</th> \n",
       "        <th class=\"col_heading level0 col4\" >All</th> \n",
       "    </tr>    <tr> \n",
       "        <th class=\"blank\" ></th> \n",
       "        <th class=\"index_name level1\" >Survived</th> \n",
       "        <th class=\"col_heading level1 col0\" >0</th> \n",
       "        <th class=\"col_heading level1 col1\" >1</th> \n",
       "        <th class=\"col_heading level1 col2\" >0</th> \n",
       "        <th class=\"col_heading level1 col3\" >1</th> \n",
       "        <th class=\"col_heading level1 col4\" ></th> \n",
       "    </tr>    <tr> \n",
       "        <th class=\"index_name level0\" >Embarked</th> \n",
       "        <th class=\"index_name level1\" >Pclass</th> \n",
       "        <th class=\"blank\" ></th> \n",
       "        <th class=\"blank\" ></th> \n",
       "        <th class=\"blank\" ></th> \n",
       "        <th class=\"blank\" ></th> \n",
       "        <th class=\"blank\" ></th> \n",
       "    </tr></thead> \n",
       "<tbody>    <tr> \n",
       "        <th id=\"T_9bad57ba_c973_11e8_905c_1234567890ablevel0_row0\" class=\"row_heading level0 row0\" rowspan=3>C</th> \n",
       "        <th id=\"T_9bad57ba_c973_11e8_905c_1234567890ablevel1_row0\" class=\"row_heading level1 row0\" >1</th> \n",
       "        <td id=\"T_9bad57ba_c973_11e8_905c_1234567890abrow0_col0\" class=\"data row0 col0\" >1</td> \n",
       "        <td id=\"T_9bad57ba_c973_11e8_905c_1234567890abrow0_col1\" class=\"data row0 col1\" >42</td> \n",
       "        <td id=\"T_9bad57ba_c973_11e8_905c_1234567890abrow0_col2\" class=\"data row0 col2\" >25</td> \n",
       "        <td id=\"T_9bad57ba_c973_11e8_905c_1234567890abrow0_col3\" class=\"data row0 col3\" >17</td> \n",
       "        <td id=\"T_9bad57ba_c973_11e8_905c_1234567890abrow0_col4\" class=\"data row0 col4\" >85</td> \n",
       "    </tr>    <tr> \n",
       "        <th id=\"T_9bad57ba_c973_11e8_905c_1234567890ablevel1_row1\" class=\"row_heading level1 row1\" >2</th> \n",
       "        <td id=\"T_9bad57ba_c973_11e8_905c_1234567890abrow1_col0\" class=\"data row1 col0\" >0</td> \n",
       "        <td id=\"T_9bad57ba_c973_11e8_905c_1234567890abrow1_col1\" class=\"data row1 col1\" >7</td> \n",
       "        <td id=\"T_9bad57ba_c973_11e8_905c_1234567890abrow1_col2\" class=\"data row1 col2\" >8</td> \n",
       "        <td id=\"T_9bad57ba_c973_11e8_905c_1234567890abrow1_col3\" class=\"data row1 col3\" >2</td> \n",
       "        <td id=\"T_9bad57ba_c973_11e8_905c_1234567890abrow1_col4\" class=\"data row1 col4\" >17</td> \n",
       "    </tr>    <tr> \n",
       "        <th id=\"T_9bad57ba_c973_11e8_905c_1234567890ablevel1_row2\" class=\"row_heading level1 row2\" >3</th> \n",
       "        <td id=\"T_9bad57ba_c973_11e8_905c_1234567890abrow2_col0\" class=\"data row2 col0\" >8</td> \n",
       "        <td id=\"T_9bad57ba_c973_11e8_905c_1234567890abrow2_col1\" class=\"data row2 col1\" >15</td> \n",
       "        <td id=\"T_9bad57ba_c973_11e8_905c_1234567890abrow2_col2\" class=\"data row2 col2\" >33</td> \n",
       "        <td id=\"T_9bad57ba_c973_11e8_905c_1234567890abrow2_col3\" class=\"data row2 col3\" >10</td> \n",
       "        <td id=\"T_9bad57ba_c973_11e8_905c_1234567890abrow2_col4\" class=\"data row2 col4\" >66</td> \n",
       "    </tr>    <tr> \n",
       "        <th id=\"T_9bad57ba_c973_11e8_905c_1234567890ablevel0_row3\" class=\"row_heading level0 row3\" rowspan=3>Q</th> \n",
       "        <th id=\"T_9bad57ba_c973_11e8_905c_1234567890ablevel1_row3\" class=\"row_heading level1 row3\" >1</th> \n",
       "        <td id=\"T_9bad57ba_c973_11e8_905c_1234567890abrow3_col0\" class=\"data row3 col0\" >0</td> \n",
       "        <td id=\"T_9bad57ba_c973_11e8_905c_1234567890abrow3_col1\" class=\"data row3 col1\" >1</td> \n",
       "        <td id=\"T_9bad57ba_c973_11e8_905c_1234567890abrow3_col2\" class=\"data row3 col2\" >1</td> \n",
       "        <td id=\"T_9bad57ba_c973_11e8_905c_1234567890abrow3_col3\" class=\"data row3 col3\" >0</td> \n",
       "        <td id=\"T_9bad57ba_c973_11e8_905c_1234567890abrow3_col4\" class=\"data row3 col4\" >2</td> \n",
       "    </tr>    <tr> \n",
       "        <th id=\"T_9bad57ba_c973_11e8_905c_1234567890ablevel1_row4\" class=\"row_heading level1 row4\" >2</th> \n",
       "        <td id=\"T_9bad57ba_c973_11e8_905c_1234567890abrow4_col0\" class=\"data row4 col0\" >0</td> \n",
       "        <td id=\"T_9bad57ba_c973_11e8_905c_1234567890abrow4_col1\" class=\"data row4 col1\" >2</td> \n",
       "        <td id=\"T_9bad57ba_c973_11e8_905c_1234567890abrow4_col2\" class=\"data row4 col2\" >1</td> \n",
       "        <td id=\"T_9bad57ba_c973_11e8_905c_1234567890abrow4_col3\" class=\"data row4 col3\" >0</td> \n",
       "        <td id=\"T_9bad57ba_c973_11e8_905c_1234567890abrow4_col4\" class=\"data row4 col4\" >3</td> \n",
       "    </tr>    <tr> \n",
       "        <th id=\"T_9bad57ba_c973_11e8_905c_1234567890ablevel1_row5\" class=\"row_heading level1 row5\" >3</th> \n",
       "        <td id=\"T_9bad57ba_c973_11e8_905c_1234567890abrow5_col0\" class=\"data row5 col0\" >9</td> \n",
       "        <td id=\"T_9bad57ba_c973_11e8_905c_1234567890abrow5_col1\" class=\"data row5 col1\" >24</td> \n",
       "        <td id=\"T_9bad57ba_c973_11e8_905c_1234567890abrow5_col2\" class=\"data row5 col2\" >36</td> \n",
       "        <td id=\"T_9bad57ba_c973_11e8_905c_1234567890abrow5_col3\" class=\"data row5 col3\" >3</td> \n",
       "        <td id=\"T_9bad57ba_c973_11e8_905c_1234567890abrow5_col4\" class=\"data row5 col4\" >72</td> \n",
       "    </tr>    <tr> \n",
       "        <th id=\"T_9bad57ba_c973_11e8_905c_1234567890ablevel0_row6\" class=\"row_heading level0 row6\" rowspan=3>S</th> \n",
       "        <th id=\"T_9bad57ba_c973_11e8_905c_1234567890ablevel1_row6\" class=\"row_heading level1 row6\" >1</th> \n",
       "        <td id=\"T_9bad57ba_c973_11e8_905c_1234567890abrow6_col0\" class=\"data row6 col0\" >2</td> \n",
       "        <td id=\"T_9bad57ba_c973_11e8_905c_1234567890abrow6_col1\" class=\"data row6 col1\" >46</td> \n",
       "        <td id=\"T_9bad57ba_c973_11e8_905c_1234567890abrow6_col2\" class=\"data row6 col2\" >51</td> \n",
       "        <td id=\"T_9bad57ba_c973_11e8_905c_1234567890abrow6_col3\" class=\"data row6 col3\" >28</td> \n",
       "        <td id=\"T_9bad57ba_c973_11e8_905c_1234567890abrow6_col4\" class=\"data row6 col4\" >127</td> \n",
       "    </tr>    <tr> \n",
       "        <th id=\"T_9bad57ba_c973_11e8_905c_1234567890ablevel1_row7\" class=\"row_heading level1 row7\" >2</th> \n",
       "        <td id=\"T_9bad57ba_c973_11e8_905c_1234567890abrow7_col0\" class=\"data row7 col0\" >6</td> \n",
       "        <td id=\"T_9bad57ba_c973_11e8_905c_1234567890abrow7_col1\" class=\"data row7 col1\" >61</td> \n",
       "        <td id=\"T_9bad57ba_c973_11e8_905c_1234567890abrow7_col2\" class=\"data row7 col2\" >82</td> \n",
       "        <td id=\"T_9bad57ba_c973_11e8_905c_1234567890abrow7_col3\" class=\"data row7 col3\" >15</td> \n",
       "        <td id=\"T_9bad57ba_c973_11e8_905c_1234567890abrow7_col4\" class=\"data row7 col4\" >164</td> \n",
       "    </tr>    <tr> \n",
       "        <th id=\"T_9bad57ba_c973_11e8_905c_1234567890ablevel1_row8\" class=\"row_heading level1 row8\" >3</th> \n",
       "        <td id=\"T_9bad57ba_c973_11e8_905c_1234567890abrow8_col0\" class=\"data row8 col0\" >55</td> \n",
       "        <td id=\"T_9bad57ba_c973_11e8_905c_1234567890abrow8_col1\" class=\"data row8 col1\" >33</td> \n",
       "        <td id=\"T_9bad57ba_c973_11e8_905c_1234567890abrow8_col2\" class=\"data row8 col2\" >231</td> \n",
       "        <td id=\"T_9bad57ba_c973_11e8_905c_1234567890abrow8_col3\" class=\"data row8 col3\" >34</td> \n",
       "        <td id=\"T_9bad57ba_c973_11e8_905c_1234567890abrow8_col4\" class=\"data row8 col4\" >353</td> \n",
       "    </tr>    <tr> \n",
       "        <th id=\"T_9bad57ba_c973_11e8_905c_1234567890ablevel0_row9\" class=\"row_heading level0 row9\" >All</th> \n",
       "        <th id=\"T_9bad57ba_c973_11e8_905c_1234567890ablevel1_row9\" class=\"row_heading level1 row9\" ></th> \n",
       "        <td id=\"T_9bad57ba_c973_11e8_905c_1234567890abrow9_col0\" class=\"data row9 col0\" >81</td> \n",
       "        <td id=\"T_9bad57ba_c973_11e8_905c_1234567890abrow9_col1\" class=\"data row9 col1\" >231</td> \n",
       "        <td id=\"T_9bad57ba_c973_11e8_905c_1234567890abrow9_col2\" class=\"data row9 col2\" >468</td> \n",
       "        <td id=\"T_9bad57ba_c973_11e8_905c_1234567890abrow9_col3\" class=\"data row9 col3\" >109</td> \n",
       "        <td id=\"T_9bad57ba_c973_11e8_905c_1234567890abrow9_col4\" class=\"data row9 col4\" >889</td> \n",
       "    </tr></tbody> \n",
       "</table> "
      ],
      "text/plain": [
       "<pandas.io.formats.style.Styler at 0x200f93f6f28>"
      ]
     },
     "execution_count": 31,
     "metadata": {},
     "output_type": "execute_result"
    }
   ],
   "source": [
    "pd.crosstab(index = [df.Embarked, df.Pclass], columns= [df.Sex, df.Survived], margins = True).style.background_gradient(cmap='summer_r')"
   ]
  },
  {
   "cell_type": "code",
   "execution_count": 32,
   "metadata": {},
   "outputs": [
    {
     "data": {
      "text/html": [
       "<style  type=\"text/css\" >\n",
       "    #T_9bc43ad4_c973_11e8_8467_1234567890abrow0_col0 {\n",
       "            background-color:  #f4fa66;\n",
       "        }    #T_9bc43ad4_c973_11e8_8467_1234567890abrow0_col1 {\n",
       "            background-color:  #d4ea66;\n",
       "        }    #T_9bc43ad4_c973_11e8_8467_1234567890abrow0_col2 {\n",
       "            background-color:  #e8f466;\n",
       "        }    #T_9bc43ad4_c973_11e8_8467_1234567890abrow1_col0 {\n",
       "            background-color:  #fcfe66;\n",
       "        }    #T_9bc43ad4_c973_11e8_8467_1234567890abrow1_col1 {\n",
       "            background-color:  #f9fc66;\n",
       "        }    #T_9bc43ad4_c973_11e8_8467_1234567890abrow1_col2 {\n",
       "            background-color:  #fbfd66;\n",
       "        }    #T_9bc43ad4_c973_11e8_8467_1234567890abrow2_col0 {\n",
       "            background-color:  #edf666;\n",
       "        }    #T_9bc43ad4_c973_11e8_8467_1234567890abrow2_col1 {\n",
       "            background-color:  #edf666;\n",
       "        }    #T_9bc43ad4_c973_11e8_8467_1234567890abrow2_col2 {\n",
       "            background-color:  #edf666;\n",
       "        }    #T_9bc43ad4_c973_11e8_8467_1234567890abrow3_col0 {\n",
       "            background-color:  #ffff66;\n",
       "        }    #T_9bc43ad4_c973_11e8_8467_1234567890abrow3_col1 {\n",
       "            background-color:  #ffff66;\n",
       "        }    #T_9bc43ad4_c973_11e8_8467_1234567890abrow3_col2 {\n",
       "            background-color:  #ffff66;\n",
       "        }    #T_9bc43ad4_c973_11e8_8467_1234567890abrow4_col0 {\n",
       "            background-color:  #ffff66;\n",
       "        }    #T_9bc43ad4_c973_11e8_8467_1234567890abrow4_col1 {\n",
       "            background-color:  #ffff66;\n",
       "        }    #T_9bc43ad4_c973_11e8_8467_1234567890abrow4_col2 {\n",
       "            background-color:  #ffff66;\n",
       "        }    #T_9bc43ad4_c973_11e8_8467_1234567890abrow5_col0 {\n",
       "            background-color:  #ebf566;\n",
       "        }    #T_9bc43ad4_c973_11e8_8467_1234567890abrow5_col1 {\n",
       "            background-color:  #ecf666;\n",
       "        }    #T_9bc43ad4_c973_11e8_8467_1234567890abrow5_col2 {\n",
       "            background-color:  #ebf566;\n",
       "        }    #T_9bc43ad4_c973_11e8_8467_1234567890abrow6_col0 {\n",
       "            background-color:  #e7f366;\n",
       "        }    #T_9bc43ad4_c973_11e8_8467_1234567890abrow6_col1 {\n",
       "            background-color:  #c8e366;\n",
       "        }    #T_9bc43ad4_c973_11e8_8467_1234567890abrow6_col2 {\n",
       "            background-color:  #dbed66;\n",
       "        }    #T_9bc43ad4_c973_11e8_8467_1234567890abrow7_col0 {\n",
       "            background-color:  #d7eb66;\n",
       "        }    #T_9bc43ad4_c973_11e8_8467_1234567890abrow7_col1 {\n",
       "            background-color:  #c7e366;\n",
       "        }    #T_9bc43ad4_c973_11e8_8467_1234567890abrow7_col2 {\n",
       "            background-color:  #d1e866;\n",
       "        }    #T_9bc43ad4_c973_11e8_8467_1234567890abrow8_col0 {\n",
       "            background-color:  #7abc66;\n",
       "        }    #T_9bc43ad4_c973_11e8_8467_1234567890abrow8_col1 {\n",
       "            background-color:  #cee666;\n",
       "        }    #T_9bc43ad4_c973_11e8_8467_1234567890abrow8_col2 {\n",
       "            background-color:  #9acc66;\n",
       "        }    #T_9bc43ad4_c973_11e8_8467_1234567890abrow9_col0 {\n",
       "            background-color:  #008066;\n",
       "        }    #T_9bc43ad4_c973_11e8_8467_1234567890abrow9_col1 {\n",
       "            background-color:  #008066;\n",
       "        }    #T_9bc43ad4_c973_11e8_8467_1234567890abrow9_col2 {\n",
       "            background-color:  #008066;\n",
       "        }</style>  \n",
       "<table id=\"T_9bc43ad4_c973_11e8_8467_1234567890ab\" > \n",
       "<thead>    <tr> \n",
       "        <th class=\"blank\" ></th> \n",
       "        <th class=\"index_name level0\" >Survived</th> \n",
       "        <th class=\"col_heading level0 col0\" >0</th> \n",
       "        <th class=\"col_heading level0 col1\" >1</th> \n",
       "        <th class=\"col_heading level0 col2\" >All</th> \n",
       "    </tr>    <tr> \n",
       "        <th class=\"index_name level0\" >Embarked</th> \n",
       "        <th class=\"index_name level1\" >Pclass</th> \n",
       "        <th class=\"blank\" ></th> \n",
       "        <th class=\"blank\" ></th> \n",
       "        <th class=\"blank\" ></th> \n",
       "    </tr></thead> \n",
       "<tbody>    <tr> \n",
       "        <th id=\"T_9bc43ad4_c973_11e8_8467_1234567890ablevel0_row0\" class=\"row_heading level0 row0\" rowspan=3>C</th> \n",
       "        <th id=\"T_9bc43ad4_c973_11e8_8467_1234567890ablevel1_row0\" class=\"row_heading level1 row0\" >1</th> \n",
       "        <td id=\"T_9bc43ad4_c973_11e8_8467_1234567890abrow0_col0\" class=\"data row0 col0\" >26</td> \n",
       "        <td id=\"T_9bc43ad4_c973_11e8_8467_1234567890abrow0_col1\" class=\"data row0 col1\" >59</td> \n",
       "        <td id=\"T_9bc43ad4_c973_11e8_8467_1234567890abrow0_col2\" class=\"data row0 col2\" >85</td> \n",
       "    </tr>    <tr> \n",
       "        <th id=\"T_9bc43ad4_c973_11e8_8467_1234567890ablevel1_row1\" class=\"row_heading level1 row1\" >2</th> \n",
       "        <td id=\"T_9bc43ad4_c973_11e8_8467_1234567890abrow1_col0\" class=\"data row1 col0\" >8</td> \n",
       "        <td id=\"T_9bc43ad4_c973_11e8_8467_1234567890abrow1_col1\" class=\"data row1 col1\" >9</td> \n",
       "        <td id=\"T_9bc43ad4_c973_11e8_8467_1234567890abrow1_col2\" class=\"data row1 col2\" >17</td> \n",
       "    </tr>    <tr> \n",
       "        <th id=\"T_9bc43ad4_c973_11e8_8467_1234567890ablevel1_row2\" class=\"row_heading level1 row2\" >3</th> \n",
       "        <td id=\"T_9bc43ad4_c973_11e8_8467_1234567890abrow2_col0\" class=\"data row2 col0\" >41</td> \n",
       "        <td id=\"T_9bc43ad4_c973_11e8_8467_1234567890abrow2_col1\" class=\"data row2 col1\" >25</td> \n",
       "        <td id=\"T_9bc43ad4_c973_11e8_8467_1234567890abrow2_col2\" class=\"data row2 col2\" >66</td> \n",
       "    </tr>    <tr> \n",
       "        <th id=\"T_9bc43ad4_c973_11e8_8467_1234567890ablevel0_row3\" class=\"row_heading level0 row3\" rowspan=3>Q</th> \n",
       "        <th id=\"T_9bc43ad4_c973_11e8_8467_1234567890ablevel1_row3\" class=\"row_heading level1 row3\" >1</th> \n",
       "        <td id=\"T_9bc43ad4_c973_11e8_8467_1234567890abrow3_col0\" class=\"data row3 col0\" >1</td> \n",
       "        <td id=\"T_9bc43ad4_c973_11e8_8467_1234567890abrow3_col1\" class=\"data row3 col1\" >1</td> \n",
       "        <td id=\"T_9bc43ad4_c973_11e8_8467_1234567890abrow3_col2\" class=\"data row3 col2\" >2</td> \n",
       "    </tr>    <tr> \n",
       "        <th id=\"T_9bc43ad4_c973_11e8_8467_1234567890ablevel1_row4\" class=\"row_heading level1 row4\" >2</th> \n",
       "        <td id=\"T_9bc43ad4_c973_11e8_8467_1234567890abrow4_col0\" class=\"data row4 col0\" >1</td> \n",
       "        <td id=\"T_9bc43ad4_c973_11e8_8467_1234567890abrow4_col1\" class=\"data row4 col1\" >2</td> \n",
       "        <td id=\"T_9bc43ad4_c973_11e8_8467_1234567890abrow4_col2\" class=\"data row4 col2\" >3</td> \n",
       "    </tr>    <tr> \n",
       "        <th id=\"T_9bc43ad4_c973_11e8_8467_1234567890ablevel1_row5\" class=\"row_heading level1 row5\" >3</th> \n",
       "        <td id=\"T_9bc43ad4_c973_11e8_8467_1234567890abrow5_col0\" class=\"data row5 col0\" >45</td> \n",
       "        <td id=\"T_9bc43ad4_c973_11e8_8467_1234567890abrow5_col1\" class=\"data row5 col1\" >27</td> \n",
       "        <td id=\"T_9bc43ad4_c973_11e8_8467_1234567890abrow5_col2\" class=\"data row5 col2\" >72</td> \n",
       "    </tr>    <tr> \n",
       "        <th id=\"T_9bc43ad4_c973_11e8_8467_1234567890ablevel0_row6\" class=\"row_heading level0 row6\" rowspan=3>S</th> \n",
       "        <th id=\"T_9bc43ad4_c973_11e8_8467_1234567890ablevel1_row6\" class=\"row_heading level1 row6\" >1</th> \n",
       "        <td id=\"T_9bc43ad4_c973_11e8_8467_1234567890abrow6_col0\" class=\"data row6 col0\" >53</td> \n",
       "        <td id=\"T_9bc43ad4_c973_11e8_8467_1234567890abrow6_col1\" class=\"data row6 col1\" >74</td> \n",
       "        <td id=\"T_9bc43ad4_c973_11e8_8467_1234567890abrow6_col2\" class=\"data row6 col2\" >127</td> \n",
       "    </tr>    <tr> \n",
       "        <th id=\"T_9bc43ad4_c973_11e8_8467_1234567890ablevel1_row7\" class=\"row_heading level1 row7\" >2</th> \n",
       "        <td id=\"T_9bc43ad4_c973_11e8_8467_1234567890abrow7_col0\" class=\"data row7 col0\" >88</td> \n",
       "        <td id=\"T_9bc43ad4_c973_11e8_8467_1234567890abrow7_col1\" class=\"data row7 col1\" >76</td> \n",
       "        <td id=\"T_9bc43ad4_c973_11e8_8467_1234567890abrow7_col2\" class=\"data row7 col2\" >164</td> \n",
       "    </tr>    <tr> \n",
       "        <th id=\"T_9bc43ad4_c973_11e8_8467_1234567890ablevel1_row8\" class=\"row_heading level1 row8\" >3</th> \n",
       "        <td id=\"T_9bc43ad4_c973_11e8_8467_1234567890abrow8_col0\" class=\"data row8 col0\" >286</td> \n",
       "        <td id=\"T_9bc43ad4_c973_11e8_8467_1234567890abrow8_col1\" class=\"data row8 col1\" >67</td> \n",
       "        <td id=\"T_9bc43ad4_c973_11e8_8467_1234567890abrow8_col2\" class=\"data row8 col2\" >353</td> \n",
       "    </tr>    <tr> \n",
       "        <th id=\"T_9bc43ad4_c973_11e8_8467_1234567890ablevel0_row9\" class=\"row_heading level0 row9\" >All</th> \n",
       "        <th id=\"T_9bc43ad4_c973_11e8_8467_1234567890ablevel1_row9\" class=\"row_heading level1 row9\" ></th> \n",
       "        <td id=\"T_9bc43ad4_c973_11e8_8467_1234567890abrow9_col0\" class=\"data row9 col0\" >549</td> \n",
       "        <td id=\"T_9bc43ad4_c973_11e8_8467_1234567890abrow9_col1\" class=\"data row9 col1\" >340</td> \n",
       "        <td id=\"T_9bc43ad4_c973_11e8_8467_1234567890abrow9_col2\" class=\"data row9 col2\" >889</td> \n",
       "    </tr></tbody> \n",
       "</table> "
      ],
      "text/plain": [
       "<pandas.io.formats.style.Styler at 0x200f974ba90>"
      ]
     },
     "execution_count": 32,
     "metadata": {},
     "output_type": "execute_result"
    }
   ],
   "source": [
    "pd.crosstab(index = [df.Embarked, df.Pclass], columns= [df.Survived], margins = True).style.background_gradient(cmap='summer_r')"
   ]
  },
  {
   "cell_type": "code",
   "execution_count": 33,
   "metadata": {},
   "outputs": [
    {
     "data": {
      "text/plain": [
       "<seaborn.axisgrid.FacetGrid at 0x200f917e898>"
      ]
     },
     "execution_count": 33,
     "metadata": {},
     "output_type": "execute_result"
    },
    {
     "data": {
      "image/png": "[encoded data removed]",
      "text/plain": [
       "<Figure size 358.5x288 with 1 Axes>"
      ]
     },
     "metadata": {},
     "output_type": "display_data"
    }
   ],
   "source": [
    "sns.factorplot(x= 'Embarked', y = 'Survived', hue = 'Sex', data = df)"
   ]
  },
  {
   "cell_type": "code",
   "execution_count": 34,
   "metadata": {},
   "outputs": [
    {
     "data": {
      "text/plain": [
       "2"
      ]
     },
     "execution_count": 34,
     "metadata": {},
     "output_type": "execute_result"
    }
   ],
   "source": [
    "df['Embarked'].isnull().sum()"
   ]
  },
  {
   "cell_type": "code",
   "execution_count": 35,
   "metadata": {},
   "outputs": [],
   "source": [
    "df['Embarked'].fillna('S', inplace = True)"
   ]
  },
  {
   "cell_type": "code",
   "execution_count": 36,
   "metadata": {},
   "outputs": [
    {
     "data": {
      "text/plain": [
       "False"
      ]
     },
     "execution_count": 36,
     "metadata": {},
     "output_type": "execute_result"
    }
   ],
   "source": [
    "df['Embarked'].isnull().any()"
   ]
  },
  {
   "cell_type": "code",
   "execution_count": 37,
   "metadata": {},
   "outputs": [
    {
     "data": {
      "text/html": [
       "<div>\n",
       "<style scoped>\n",
       "    .dataframe tbody tr th:only-of-type {\n",
       "        vertical-align: middle;\n",
       "    }\n",
       "\n",
       "    .dataframe tbody tr th {\n",
       "        vertical-align: top;\n",
       "    }\n",
       "\n",
       "    .dataframe thead th {\n",
       "        text-align: right;\n",
       "    }\n",
       "</style>\n",
       "<table border=\"1\" class=\"dataframe\">\n",
       "  <thead>\n",
       "    <tr style=\"text-align: right;\">\n",
       "      <th></th>\n",
       "      <th>PassengerId</th>\n",
       "      <th>Survived</th>\n",
       "      <th>Pclass</th>\n",
       "      <th>Name</th>\n",
       "      <th>Sex</th>\n",
       "      <th>Age</th>\n",
       "      <th>SibSp</th>\n",
       "      <th>Parch</th>\n",
       "      <th>Ticket</th>\n",
       "      <th>Fare</th>\n",
       "      <th>Cabin</th>\n",
       "      <th>Embarked</th>\n",
       "      <th>Initial</th>\n",
       "    </tr>\n",
       "  </thead>\n",
       "  <tbody>\n",
       "    <tr>\n",
       "      <th>0</th>\n",
       "      <td>1</td>\n",
       "      <td>0</td>\n",
       "      <td>3</td>\n",
       "      <td>Braund, Mr. Owen Harris</td>\n",
       "      <td>male</td>\n",
       "      <td>22.0</td>\n",
       "      <td>1</td>\n",
       "      <td>0</td>\n",
       "      <td>A/5 21171</td>\n",
       "      <td>7.2500</td>\n",
       "      <td>NaN</td>\n",
       "      <td>S</td>\n",
       "      <td>Mr</td>\n",
       "    </tr>\n",
       "    <tr>\n",
       "      <th>1</th>\n",
       "      <td>2</td>\n",
       "      <td>1</td>\n",
       "      <td>1</td>\n",
       "      <td>Cumings, Mrs. John Bradley (Florence Briggs Th...</td>\n",
       "      <td>female</td>\n",
       "      <td>38.0</td>\n",
       "      <td>1</td>\n",
       "      <td>0</td>\n",
       "      <td>PC 17599</td>\n",
       "      <td>71.2833</td>\n",
       "      <td>C85</td>\n",
       "      <td>C</td>\n",
       "      <td>Mrs</td>\n",
       "    </tr>\n",
       "    <tr>\n",
       "      <th>2</th>\n",
       "      <td>3</td>\n",
       "      <td>1</td>\n",
       "      <td>3</td>\n",
       "      <td>Heikkinen, Miss. Laina</td>\n",
       "      <td>female</td>\n",
       "      <td>26.0</td>\n",
       "      <td>0</td>\n",
       "      <td>0</td>\n",
       "      <td>STON/O2. 3101282</td>\n",
       "      <td>7.9250</td>\n",
       "      <td>NaN</td>\n",
       "      <td>S</td>\n",
       "      <td>Miss</td>\n",
       "    </tr>\n",
       "    <tr>\n",
       "      <th>3</th>\n",
       "      <td>4</td>\n",
       "      <td>1</td>\n",
       "      <td>1</td>\n",
       "      <td>Futrelle, Mrs. Jacques Heath (Lily May Peel)</td>\n",
       "      <td>female</td>\n",
       "      <td>35.0</td>\n",
       "      <td>1</td>\n",
       "      <td>0</td>\n",
       "      <td>113803</td>\n",
       "      <td>53.1000</td>\n",
       "      <td>C123</td>\n",
       "      <td>S</td>\n",
       "      <td>Mrs</td>\n",
       "    </tr>\n",
       "    <tr>\n",
       "      <th>4</th>\n",
       "      <td>5</td>\n",
       "      <td>0</td>\n",
       "      <td>3</td>\n",
       "      <td>Allen, Mr. William Henry</td>\n",
       "      <td>male</td>\n",
       "      <td>35.0</td>\n",
       "      <td>0</td>\n",
       "      <td>0</td>\n",
       "      <td>373450</td>\n",
       "      <td>8.0500</td>\n",
       "      <td>NaN</td>\n",
       "      <td>S</td>\n",
       "      <td>Mr</td>\n",
       "    </tr>\n",
       "  </tbody>\n",
       "</table>\n",
       "</div>"
      ],
      "text/plain": [
       "   PassengerId  Survived  Pclass  \\\n",
       "0            1         0       3   \n",
       "1            2         1       1   \n",
       "2            3         1       3   \n",
       "3            4         1       1   \n",
       "4            5         0       3   \n",
       "\n",
       "                                                Name     Sex   Age  SibSp  \\\n",
       "0                            Braund, Mr. Owen Harris    male  22.0      1   \n",
       "1  Cumings, Mrs. John Bradley (Florence Briggs Th...  female  38.0      1   \n",
       "2                             Heikkinen, Miss. Laina  female  26.0      0   \n",
       "3       Futrelle, Mrs. Jacques Heath (Lily May Peel)  female  35.0      1   \n",
       "4                           Allen, Mr. William Henry    male  35.0      0   \n",
       "\n",
       "   Parch            Ticket     Fare Cabin Embarked Initial  \n",
       "0      0         A/5 21171   7.2500   NaN        S      Mr  \n",
       "1      0          PC 17599  71.2833   C85        C     Mrs  \n",
       "2      0  STON/O2. 3101282   7.9250   NaN        S    Miss  \n",
       "3      0            113803  53.1000  C123        S     Mrs  \n",
       "4      0            373450   8.0500   NaN        S      Mr  "
      ]
     },
     "execution_count": 37,
     "metadata": {},
     "output_type": "execute_result"
    }
   ],
   "source": [
    "df.head()"
   ]
  },
  {
   "cell_type": "code",
   "execution_count": 38,
   "metadata": {},
   "outputs": [
    {
     "data": {
      "text/html": [
       "<div>\n",
       "<style scoped>\n",
       "    .dataframe tbody tr th:only-of-type {\n",
       "        vertical-align: middle;\n",
       "    }\n",
       "\n",
       "    .dataframe tbody tr th {\n",
       "        vertical-align: top;\n",
       "    }\n",
       "\n",
       "    .dataframe thead th {\n",
       "        text-align: right;\n",
       "    }\n",
       "</style>\n",
       "<table border=\"1\" class=\"dataframe\">\n",
       "  <thead>\n",
       "    <tr style=\"text-align: right;\">\n",
       "      <th></th>\n",
       "      <th>Survived</th>\n",
       "      <th>0</th>\n",
       "      <th>1</th>\n",
       "      <th>All</th>\n",
       "    </tr>\n",
       "    <tr>\n",
       "      <th>SibSp</th>\n",
       "      <th>Pclass</th>\n",
       "      <th></th>\n",
       "      <th></th>\n",
       "      <th></th>\n",
       "    </tr>\n",
       "  </thead>\n",
       "  <tbody>\n",
       "    <tr>\n",
       "      <th rowspan=\"3\" valign=\"top\">0</th>\n",
       "      <th>1</th>\n",
       "      <td>60</td>\n",
       "      <td>77</td>\n",
       "      <td>137</td>\n",
       "    </tr>\n",
       "    <tr>\n",
       "      <th>2</th>\n",
       "      <td>70</td>\n",
       "      <td>50</td>\n",
       "      <td>120</td>\n",
       "    </tr>\n",
       "    <tr>\n",
       "      <th>3</th>\n",
       "      <td>268</td>\n",
       "      <td>83</td>\n",
       "      <td>351</td>\n",
       "    </tr>\n",
       "    <tr>\n",
       "      <th rowspan=\"3\" valign=\"top\">1</th>\n",
       "      <th>1</th>\n",
       "      <td>18</td>\n",
       "      <td>53</td>\n",
       "      <td>71</td>\n",
       "    </tr>\n",
       "    <tr>\n",
       "      <th>2</th>\n",
       "      <td>23</td>\n",
       "      <td>32</td>\n",
       "      <td>55</td>\n",
       "    </tr>\n",
       "    <tr>\n",
       "      <th>3</th>\n",
       "      <td>56</td>\n",
       "      <td>27</td>\n",
       "      <td>83</td>\n",
       "    </tr>\n",
       "    <tr>\n",
       "      <th rowspan=\"3\" valign=\"top\">2</th>\n",
       "      <th>1</th>\n",
       "      <td>1</td>\n",
       "      <td>4</td>\n",
       "      <td>5</td>\n",
       "    </tr>\n",
       "    <tr>\n",
       "      <th>2</th>\n",
       "      <td>4</td>\n",
       "      <td>4</td>\n",
       "      <td>8</td>\n",
       "    </tr>\n",
       "    <tr>\n",
       "      <th>3</th>\n",
       "      <td>10</td>\n",
       "      <td>5</td>\n",
       "      <td>15</td>\n",
       "    </tr>\n",
       "    <tr>\n",
       "      <th rowspan=\"3\" valign=\"top\">3</th>\n",
       "      <th>1</th>\n",
       "      <td>1</td>\n",
       "      <td>2</td>\n",
       "      <td>3</td>\n",
       "    </tr>\n",
       "    <tr>\n",
       "      <th>2</th>\n",
       "      <td>0</td>\n",
       "      <td>1</td>\n",
       "      <td>1</td>\n",
       "    </tr>\n",
       "    <tr>\n",
       "      <th>3</th>\n",
       "      <td>11</td>\n",
       "      <td>1</td>\n",
       "      <td>12</td>\n",
       "    </tr>\n",
       "    <tr>\n",
       "      <th>4</th>\n",
       "      <th>3</th>\n",
       "      <td>15</td>\n",
       "      <td>3</td>\n",
       "      <td>18</td>\n",
       "    </tr>\n",
       "    <tr>\n",
       "      <th>5</th>\n",
       "      <th>3</th>\n",
       "      <td>5</td>\n",
       "      <td>0</td>\n",
       "      <td>5</td>\n",
       "    </tr>\n",
       "    <tr>\n",
       "      <th>8</th>\n",
       "      <th>3</th>\n",
       "      <td>7</td>\n",
       "      <td>0</td>\n",
       "      <td>7</td>\n",
       "    </tr>\n",
       "    <tr>\n",
       "      <th>All</th>\n",
       "      <th></th>\n",
       "      <td>549</td>\n",
       "      <td>342</td>\n",
       "      <td>891</td>\n",
       "    </tr>\n",
       "  </tbody>\n",
       "</table>\n",
       "</div>"
      ],
      "text/plain": [
       "Survived        0    1  All\n",
       "SibSp Pclass               \n",
       "0     1        60   77  137\n",
       "      2        70   50  120\n",
       "      3       268   83  351\n",
       "1     1        18   53   71\n",
       "      2        23   32   55\n",
       "      3        56   27   83\n",
       "2     1         1    4    5\n",
       "      2         4    4    8\n",
       "      3        10    5   15\n",
       "3     1         1    2    3\n",
       "      2         0    1    1\n",
       "      3        11    1   12\n",
       "4     3        15    3   18\n",
       "5     3         5    0    5\n",
       "8     3         7    0    7\n",
       "All           549  342  891"
      ]
     },
     "execution_count": 38,
     "metadata": {},
     "output_type": "execute_result"
    }
   ],
   "source": [
    "pd.crosstab(index=[df.SibSp, df.Pclass], columns=[df.Survived], margins=True)"
   ]
  },
  {
   "cell_type": "code",
   "execution_count": 39,
   "metadata": {},
   "outputs": [
    {
     "data": {
      "text/plain": [
       "<seaborn.axisgrid.FacetGrid at 0x200f9b7ed68>"
      ]
     },
     "execution_count": 39,
     "metadata": {},
     "output_type": "execute_result"
    },
    {
     "data": {
      "image/png": "[encoded data removed]",
      "text/plain": [
       "<Figure size 288x288 with 1 Axes>"
      ]
     },
     "metadata": {},
     "output_type": "display_data"
    }
   ],
   "source": [
    "sns.factorplot(x = 'SibSp', y = 'Survived', data=df)"
   ]
  },
  {
   "cell_type": "code",
   "execution_count": 40,
   "metadata": {},
   "outputs": [
    {
     "data": {
      "text/plain": [
       "<seaborn.axisgrid.FacetGrid at 0x200f9dbfc50>"
      ]
     },
     "execution_count": 40,
     "metadata": {},
     "output_type": "execute_result"
    },
    {
     "data": {
      "image/png": "[encoded data removed]",
      "text/plain": [
       "<Figure size 358.5x288 with 1 Axes>"
      ]
     },
     "metadata": {},
     "output_type": "display_data"
    }
   ],
   "source": [
    "sns.factorplot(x = 'SibSp', y = 'Survived', hue='Sex', data=df)"
   ]
  },
  {
   "cell_type": "code",
   "execution_count": 41,
   "metadata": {},
   "outputs": [
    {
     "data": {
      "text/plain": [
       "<seaborn.axisgrid.FacetGrid at 0x200f9d75f98>"
      ]
     },
     "execution_count": 41,
     "metadata": {},
     "output_type": "execute_result"
    },
    {
     "data": {
      "image/png": "[encoded data removed]",
      "text/plain": [
       "<Figure size 330.375x288 with 1 Axes>"
      ]
     },
     "metadata": {},
     "output_type": "display_data"
    }
   ],
   "source": [
    "sns.factorplot(x = 'SibSp', y = 'Survived', hue = 'Pclass', data=df)"
   ]
  },
  {
   "cell_type": "code",
   "execution_count": 42,
   "metadata": {},
   "outputs": [
    {
     "data": {
      "text/plain": [
       "False"
      ]
     },
     "execution_count": 42,
     "metadata": {},
     "output_type": "execute_result"
    }
   ],
   "source": [
    "df['Parch'].isnull().any()"
   ]
  },
  {
   "cell_type": "code",
   "execution_count": 43,
   "metadata": {},
   "outputs": [
    {
     "data": {
      "text/html": [
       "<style  type=\"text/css\" >\n",
       "    #T_9d9cbdf0_c973_11e8_8557_1234567890abrow0_col0 {\n",
       "            background-color:  #3e9e66;\n",
       "        }    #T_9d9cbdf0_c973_11e8_8557_1234567890abrow0_col1 {\n",
       "            background-color:  #45a266;\n",
       "        }    #T_9d9cbdf0_c973_11e8_8557_1234567890abrow0_col2 {\n",
       "            background-color:  #399c66;\n",
       "        }    #T_9d9cbdf0_c973_11e8_8557_1234567890abrow0_col3 {\n",
       "            background-color:  #3d9e66;\n",
       "        }    #T_9d9cbdf0_c973_11e8_8557_1234567890abrow1_col0 {\n",
       "            background-color:  #dbed66;\n",
       "        }    #T_9d9cbdf0_c973_11e8_8557_1234567890abrow1_col1 {\n",
       "            background-color:  #d3e966;\n",
       "        }    #T_9d9cbdf0_c973_11e8_8557_1234567890abrow1_col2 {\n",
       "            background-color:  #e3f166;\n",
       "        }    #T_9d9cbdf0_c973_11e8_8557_1234567890abrow1_col3 {\n",
       "            background-color:  #deee66;\n",
       "        }    #T_9d9cbdf0_c973_11e8_8557_1234567890abrow2_col0 {\n",
       "            background-color:  #e7f366;\n",
       "        }    #T_9d9cbdf0_c973_11e8_8557_1234567890abrow2_col1 {\n",
       "            background-color:  #e9f466;\n",
       "        }    #T_9d9cbdf0_c973_11e8_8557_1234567890abrow2_col2 {\n",
       "            background-color:  #eaf466;\n",
       "        }    #T_9d9cbdf0_c973_11e8_8557_1234567890abrow2_col3 {\n",
       "            background-color:  #e9f466;\n",
       "        }    #T_9d9cbdf0_c973_11e8_8557_1234567890abrow3_col0 {\n",
       "            background-color:  #ffff66;\n",
       "        }    #T_9d9cbdf0_c973_11e8_8557_1234567890abrow3_col1 {\n",
       "            background-color:  #fdfe66;\n",
       "        }    #T_9d9cbdf0_c973_11e8_8557_1234567890abrow3_col2 {\n",
       "            background-color:  #fefe66;\n",
       "        }    #T_9d9cbdf0_c973_11e8_8557_1234567890abrow3_col3 {\n",
       "            background-color:  #fefe66;\n",
       "        }    #T_9d9cbdf0_c973_11e8_8557_1234567890abrow4_col0 {\n",
       "            background-color:  #fefe66;\n",
       "        }    #T_9d9cbdf0_c973_11e8_8557_1234567890abrow4_col1 {\n",
       "            background-color:  #ffff66;\n",
       "        }    #T_9d9cbdf0_c973_11e8_8557_1234567890abrow4_col2 {\n",
       "            background-color:  #fefe66;\n",
       "        }    #T_9d9cbdf0_c973_11e8_8557_1234567890abrow4_col3 {\n",
       "            background-color:  #ffff66;\n",
       "        }    #T_9d9cbdf0_c973_11e8_8557_1234567890abrow5_col0 {\n",
       "            background-color:  #ffff66;\n",
       "        }    #T_9d9cbdf0_c973_11e8_8557_1234567890abrow5_col1 {\n",
       "            background-color:  #ffff66;\n",
       "        }    #T_9d9cbdf0_c973_11e8_8557_1234567890abrow5_col2 {\n",
       "            background-color:  #fdfe66;\n",
       "        }    #T_9d9cbdf0_c973_11e8_8557_1234567890abrow5_col3 {\n",
       "            background-color:  #fefe66;\n",
       "        }    #T_9d9cbdf0_c973_11e8_8557_1234567890abrow6_col0 {\n",
       "            background-color:  #ffff66;\n",
       "        }    #T_9d9cbdf0_c973_11e8_8557_1234567890abrow6_col1 {\n",
       "            background-color:  #ffff66;\n",
       "        }    #T_9d9cbdf0_c973_11e8_8557_1234567890abrow6_col2 {\n",
       "            background-color:  #ffff66;\n",
       "        }    #T_9d9cbdf0_c973_11e8_8557_1234567890abrow6_col3 {\n",
       "            background-color:  #ffff66;\n",
       "        }    #T_9d9cbdf0_c973_11e8_8557_1234567890abrow7_col0 {\n",
       "            background-color:  #008066;\n",
       "        }    #T_9d9cbdf0_c973_11e8_8557_1234567890abrow7_col1 {\n",
       "            background-color:  #008066;\n",
       "        }    #T_9d9cbdf0_c973_11e8_8557_1234567890abrow7_col2 {\n",
       "            background-color:  #008066;\n",
       "        }    #T_9d9cbdf0_c973_11e8_8557_1234567890abrow7_col3 {\n",
       "            background-color:  #008066;\n",
       "        }</style>  \n",
       "<table id=\"T_9d9cbdf0_c973_11e8_8557_1234567890ab\" > \n",
       "<thead>    <tr> \n",
       "        <th class=\"index_name level0\" >Pclass</th> \n",
       "        <th class=\"col_heading level0 col0\" >1</th> \n",
       "        <th class=\"col_heading level0 col1\" >2</th> \n",
       "        <th class=\"col_heading level0 col2\" >3</th> \n",
       "        <th class=\"col_heading level0 col3\" >All</th> \n",
       "    </tr>    <tr> \n",
       "        <th class=\"index_name level0\" >Parch</th> \n",
       "        <th class=\"blank\" ></th> \n",
       "        <th class=\"blank\" ></th> \n",
       "        <th class=\"blank\" ></th> \n",
       "        <th class=\"blank\" ></th> \n",
       "    </tr></thead> \n",
       "<tbody>    <tr> \n",
       "        <th id=\"T_9d9cbdf0_c973_11e8_8557_1234567890ablevel0_row0\" class=\"row_heading level0 row0\" >0</th> \n",
       "        <td id=\"T_9d9cbdf0_c973_11e8_8557_1234567890abrow0_col0\" class=\"data row0 col0\" >163</td> \n",
       "        <td id=\"T_9d9cbdf0_c973_11e8_8557_1234567890abrow0_col1\" class=\"data row0 col1\" >134</td> \n",
       "        <td id=\"T_9d9cbdf0_c973_11e8_8557_1234567890abrow0_col2\" class=\"data row0 col2\" >381</td> \n",
       "        <td id=\"T_9d9cbdf0_c973_11e8_8557_1234567890abrow0_col3\" class=\"data row0 col3\" >678</td> \n",
       "    </tr>    <tr> \n",
       "        <th id=\"T_9d9cbdf0_c973_11e8_8557_1234567890ablevel0_row1\" class=\"row_heading level0 row1\" >1</th> \n",
       "        <td id=\"T_9d9cbdf0_c973_11e8_8557_1234567890abrow1_col0\" class=\"data row1 col0\" >31</td> \n",
       "        <td id=\"T_9d9cbdf0_c973_11e8_8557_1234567890abrow1_col1\" class=\"data row1 col1\" >32</td> \n",
       "        <td id=\"T_9d9cbdf0_c973_11e8_8557_1234567890abrow1_col2\" class=\"data row1 col2\" >55</td> \n",
       "        <td id=\"T_9d9cbdf0_c973_11e8_8557_1234567890abrow1_col3\" class=\"data row1 col3\" >118</td> \n",
       "    </tr>    <tr> \n",
       "        <th id=\"T_9d9cbdf0_c973_11e8_8557_1234567890ablevel0_row2\" class=\"row_heading level0 row2\" >2</th> \n",
       "        <td id=\"T_9d9cbdf0_c973_11e8_8557_1234567890abrow2_col0\" class=\"data row2 col0\" >21</td> \n",
       "        <td id=\"T_9d9cbdf0_c973_11e8_8557_1234567890abrow2_col1\" class=\"data row2 col1\" >16</td> \n",
       "        <td id=\"T_9d9cbdf0_c973_11e8_8557_1234567890abrow2_col2\" class=\"data row2 col2\" >43</td> \n",
       "        <td id=\"T_9d9cbdf0_c973_11e8_8557_1234567890abrow2_col3\" class=\"data row2 col3\" >80</td> \n",
       "    </tr>    <tr> \n",
       "        <th id=\"T_9d9cbdf0_c973_11e8_8557_1234567890ablevel0_row3\" class=\"row_heading level0 row3\" >3</th> \n",
       "        <td id=\"T_9d9cbdf0_c973_11e8_8557_1234567890abrow3_col0\" class=\"data row3 col0\" >0</td> \n",
       "        <td id=\"T_9d9cbdf0_c973_11e8_8557_1234567890abrow3_col1\" class=\"data row3 col1\" >2</td> \n",
       "        <td id=\"T_9d9cbdf0_c973_11e8_8557_1234567890abrow3_col2\" class=\"data row3 col2\" >3</td> \n",
       "        <td id=\"T_9d9cbdf0_c973_11e8_8557_1234567890abrow3_col3\" class=\"data row3 col3\" >5</td> \n",
       "    </tr>    <tr> \n",
       "        <th id=\"T_9d9cbdf0_c973_11e8_8557_1234567890ablevel0_row4\" class=\"row_heading level0 row4\" >4</th> \n",
       "        <td id=\"T_9d9cbdf0_c973_11e8_8557_1234567890abrow4_col0\" class=\"data row4 col0\" >1</td> \n",
       "        <td id=\"T_9d9cbdf0_c973_11e8_8557_1234567890abrow4_col1\" class=\"data row4 col1\" >0</td> \n",
       "        <td id=\"T_9d9cbdf0_c973_11e8_8557_1234567890abrow4_col2\" class=\"data row4 col2\" >3</td> \n",
       "        <td id=\"T_9d9cbdf0_c973_11e8_8557_1234567890abrow4_col3\" class=\"data row4 col3\" >4</td> \n",
       "    </tr>    <tr> \n",
       "        <th id=\"T_9d9cbdf0_c973_11e8_8557_1234567890ablevel0_row5\" class=\"row_heading level0 row5\" >5</th> \n",
       "        <td id=\"T_9d9cbdf0_c973_11e8_8557_1234567890abrow5_col0\" class=\"data row5 col0\" >0</td> \n",
       "        <td id=\"T_9d9cbdf0_c973_11e8_8557_1234567890abrow5_col1\" class=\"data row5 col1\" >0</td> \n",
       "        <td id=\"T_9d9cbdf0_c973_11e8_8557_1234567890abrow5_col2\" class=\"data row5 col2\" >5</td> \n",
       "        <td id=\"T_9d9cbdf0_c973_11e8_8557_1234567890abrow5_col3\" class=\"data row5 col3\" >5</td> \n",
       "    </tr>    <tr> \n",
       "        <th id=\"T_9d9cbdf0_c973_11e8_8557_1234567890ablevel0_row6\" class=\"row_heading level0 row6\" >6</th> \n",
       "        <td id=\"T_9d9cbdf0_c973_11e8_8557_1234567890abrow6_col0\" class=\"data row6 col0\" >0</td> \n",
       "        <td id=\"T_9d9cbdf0_c973_11e8_8557_1234567890abrow6_col1\" class=\"data row6 col1\" >0</td> \n",
       "        <td id=\"T_9d9cbdf0_c973_11e8_8557_1234567890abrow6_col2\" class=\"data row6 col2\" >1</td> \n",
       "        <td id=\"T_9d9cbdf0_c973_11e8_8557_1234567890abrow6_col3\" class=\"data row6 col3\" >1</td> \n",
       "    </tr>    <tr> \n",
       "        <th id=\"T_9d9cbdf0_c973_11e8_8557_1234567890ablevel0_row7\" class=\"row_heading level0 row7\" >All</th> \n",
       "        <td id=\"T_9d9cbdf0_c973_11e8_8557_1234567890abrow7_col0\" class=\"data row7 col0\" >216</td> \n",
       "        <td id=\"T_9d9cbdf0_c973_11e8_8557_1234567890abrow7_col1\" class=\"data row7 col1\" >184</td> \n",
       "        <td id=\"T_9d9cbdf0_c973_11e8_8557_1234567890abrow7_col2\" class=\"data row7 col2\" >491</td> \n",
       "        <td id=\"T_9d9cbdf0_c973_11e8_8557_1234567890abrow7_col3\" class=\"data row7 col3\" >891</td> \n",
       "    </tr></tbody> \n",
       "</table> "
      ],
      "text/plain": [
       "<pandas.io.formats.style.Styler at 0x200f9dc8eb8>"
      ]
     },
     "execution_count": 43,
     "metadata": {},
     "output_type": "execute_result"
    }
   ],
   "source": [
    "pd.crosstab(index = df.Parch, columns=[df.Pclass], margins=True).style.background_gradient(cmap='summer_r')"
   ]
  },
  {
   "cell_type": "markdown",
   "metadata": {},
   "source": [
    "# Part2: Feature Engineering and Data Cleaning"
   ]
  },
  {
   "cell_type": "code",
   "execution_count": 44,
   "metadata": {},
   "outputs": [
    {
     "data": {
      "text/html": [
       "<div>\n",
       "<style scoped>\n",
       "    .dataframe tbody tr th:only-of-type {\n",
       "        vertical-align: middle;\n",
       "    }\n",
       "\n",
       "    .dataframe tbody tr th {\n",
       "        vertical-align: top;\n",
       "    }\n",
       "\n",
       "    .dataframe thead th {\n",
       "        text-align: right;\n",
       "    }\n",
       "</style>\n",
       "<table border=\"1\" class=\"dataframe\">\n",
       "  <thead>\n",
       "    <tr style=\"text-align: right;\">\n",
       "      <th></th>\n",
       "      <th>PassengerId</th>\n",
       "      <th>Survived</th>\n",
       "      <th>Pclass</th>\n",
       "      <th>Name</th>\n",
       "      <th>Sex</th>\n",
       "      <th>Age</th>\n",
       "      <th>SibSp</th>\n",
       "      <th>Parch</th>\n",
       "      <th>Ticket</th>\n",
       "      <th>Fare</th>\n",
       "      <th>Cabin</th>\n",
       "      <th>Embarked</th>\n",
       "      <th>Initial</th>\n",
       "      <th>Age_band</th>\n",
       "    </tr>\n",
       "  </thead>\n",
       "  <tbody>\n",
       "    <tr>\n",
       "      <th>0</th>\n",
       "      <td>1</td>\n",
       "      <td>0</td>\n",
       "      <td>3</td>\n",
       "      <td>Braund, Mr. Owen Harris</td>\n",
       "      <td>male</td>\n",
       "      <td>22.0</td>\n",
       "      <td>1</td>\n",
       "      <td>0</td>\n",
       "      <td>A/5 21171</td>\n",
       "      <td>7.2500</td>\n",
       "      <td>NaN</td>\n",
       "      <td>S</td>\n",
       "      <td>Mr</td>\n",
       "      <td>1</td>\n",
       "    </tr>\n",
       "    <tr>\n",
       "      <th>1</th>\n",
       "      <td>2</td>\n",
       "      <td>1</td>\n",
       "      <td>1</td>\n",
       "      <td>Cumings, Mrs. John Bradley (Florence Briggs Th...</td>\n",
       "      <td>female</td>\n",
       "      <td>38.0</td>\n",
       "      <td>1</td>\n",
       "      <td>0</td>\n",
       "      <td>PC 17599</td>\n",
       "      <td>71.2833</td>\n",
       "      <td>C85</td>\n",
       "      <td>C</td>\n",
       "      <td>Mrs</td>\n",
       "      <td>2</td>\n",
       "    </tr>\n",
       "  </tbody>\n",
       "</table>\n",
       "</div>"
      ],
      "text/plain": [
       "   PassengerId  Survived  Pclass  \\\n",
       "0            1         0       3   \n",
       "1            2         1       1   \n",
       "\n",
       "                                                Name     Sex   Age  SibSp  \\\n",
       "0                            Braund, Mr. Owen Harris    male  22.0      1   \n",
       "1  Cumings, Mrs. John Bradley (Florence Briggs Th...  female  38.0      1   \n",
       "\n",
       "   Parch     Ticket     Fare Cabin Embarked Initial  Age_band  \n",
       "0      0  A/5 21171   7.2500   NaN        S      Mr         1  \n",
       "1      0   PC 17599  71.2833   C85        C     Mrs         2  "
      ]
     },
     "execution_count": 44,
     "metadata": {},
     "output_type": "execute_result"
    }
   ],
   "source": [
    "df['Age_band'] = 0\n",
    "df.loc[df['Age'] <= 16, 'Age_band'] = 0\n",
    "df.loc[(df['Age'] > 16) & (df['Age']<= 32), 'Age_band'] = 1\n",
    "df.loc[(df['Age'] > 32) & (df['Age']<= 48), 'Age_band'] = 2\n",
    "df.loc[(df['Age'] > 48) & (df['Age']<= 64), 'Age_band'] = 3\n",
    "df.loc[df['Age']>64,'Age_band']=4\n",
    "df.head(2)"
   ]
  },
  {
   "cell_type": "code",
   "execution_count": 45,
   "metadata": {},
   "outputs": [
    {
     "data": {
      "text/html": [
       "<style  type=\"text/css\" >\n",
       "    #T_9db06cb0_c973_11e8_99e1_1234567890abrow0_col0 {\n",
       "            background-color:  #ffff66;\n",
       "        }    #T_9db06cb0_c973_11e8_99e1_1234567890abrow1_col0 {\n",
       "            background-color:  #d8ec66;\n",
       "        }    #T_9db06cb0_c973_11e8_99e1_1234567890abrow2_col0 {\n",
       "            background-color:  #40a066;\n",
       "        }    #T_9db06cb0_c973_11e8_99e1_1234567890abrow3_col0 {\n",
       "            background-color:  #289366;\n",
       "        }    #T_9db06cb0_c973_11e8_99e1_1234567890abrow4_col0 {\n",
       "            background-color:  #008066;\n",
       "        }</style>  \n",
       "<table id=\"T_9db06cb0_c973_11e8_99e1_1234567890ab\" > \n",
       "<thead>    <tr> \n",
       "        <th class=\"blank level0\" ></th> \n",
       "        <th class=\"col_heading level0 col0\" >Age_band</th> \n",
       "    </tr></thead> \n",
       "<tbody>    <tr> \n",
       "        <th id=\"T_9db06cb0_c973_11e8_99e1_1234567890ablevel0_row0\" class=\"row_heading level0 row0\" >1</th> \n",
       "        <td id=\"T_9db06cb0_c973_11e8_99e1_1234567890abrow0_col0\" class=\"data row0 col0\" >382</td> \n",
       "    </tr>    <tr> \n",
       "        <th id=\"T_9db06cb0_c973_11e8_99e1_1234567890ablevel0_row1\" class=\"row_heading level0 row1\" >2</th> \n",
       "        <td id=\"T_9db06cb0_c973_11e8_99e1_1234567890abrow1_col0\" class=\"data row1 col0\" >325</td> \n",
       "    </tr>    <tr> \n",
       "        <th id=\"T_9db06cb0_c973_11e8_99e1_1234567890ablevel0_row2\" class=\"row_heading level0 row2\" >0</th> \n",
       "        <td id=\"T_9db06cb0_c973_11e8_99e1_1234567890abrow2_col0\" class=\"data row2 col0\" >104</td> \n",
       "    </tr>    <tr> \n",
       "        <th id=\"T_9db06cb0_c973_11e8_99e1_1234567890ablevel0_row3\" class=\"row_heading level0 row3\" >3</th> \n",
       "        <td id=\"T_9db06cb0_c973_11e8_99e1_1234567890abrow3_col0\" class=\"data row3 col0\" >69</td> \n",
       "    </tr>    <tr> \n",
       "        <th id=\"T_9db06cb0_c973_11e8_99e1_1234567890ablevel0_row4\" class=\"row_heading level0 row4\" >4</th> \n",
       "        <td id=\"T_9db06cb0_c973_11e8_99e1_1234567890abrow4_col0\" class=\"data row4 col0\" >11</td> \n",
       "    </tr></tbody> \n",
       "</table> "
      ],
      "text/plain": [
       "<pandas.io.formats.style.Styler at 0x200f9f3d940>"
      ]
     },
     "execution_count": 45,
     "metadata": {},
     "output_type": "execute_result"
    }
   ],
   "source": [
    "df['Age_band'].value_counts().to_frame().style.background_gradient(cmap='summer')"
   ]
  },
  {
   "cell_type": "code",
   "execution_count": 46,
   "metadata": {},
   "outputs": [
    {
     "data": {
      "text/plain": [
       "<matplotlib.axes._subplots.AxesSubplot at 0x200f9f3d390>"
      ]
     },
     "execution_count": 46,
     "metadata": {},
     "output_type": "execute_result"
    },
    {
     "data": {
      "image/png": "[encoded data removed]",
      "text/plain": [
       "<Figure size 432x288 with 1 Axes>"
      ]
     },
     "metadata": {},
     "output_type": "display_data"
    }
   ],
   "source": [
    "sns.countplot(x = 'Age_band', data = df)"
   ]
  },
  {
   "cell_type": "code",
   "execution_count": 47,
   "metadata": {},
   "outputs": [
    {
     "data": {
      "text/plain": [
       "<seaborn.axisgrid.FacetGrid at 0x200f9f100f0>"
      ]
     },
     "execution_count": 47,
     "metadata": {},
     "output_type": "execute_result"
    },
    {
     "data": {
      "image/png": "[encoded data removed]",
      "text/plain": [
       "<Figure size 864x288 with 3 Axes>"
      ]
     },
     "metadata": {},
     "output_type": "display_data"
    }
   ],
   "source": [
    "sns.factorplot(x = 'Age_band', y = 'Survived', data = df, col = 'Pclass')"
   ]
  },
  {
   "cell_type": "code",
   "execution_count": 48,
   "metadata": {},
   "outputs": [
    {
     "data": {
      "text/plain": [
       "<seaborn.axisgrid.FacetGrid at 0x200fb0120f0>"
      ]
     },
     "execution_count": 48,
     "metadata": {},
     "output_type": "execute_result"
    },
    {
     "data": {
      "image/png": "[encoded data removed]",
      "text/plain": [
       "<Figure size 330.375x288 with 1 Axes>"
      ]
     },
     "metadata": {},
     "output_type": "display_data"
    }
   ],
   "source": [
    "sns.factorplot(x = 'Age_band', y = 'Survived', data = df, hue = 'Pclass')"
   ]
  },
  {
   "cell_type": "code",
   "execution_count": 49,
   "metadata": {},
   "outputs": [],
   "source": [
    "df['Fare_range'] = pd.qcut(df.Fare, 4)"
   ]
  },
  {
   "cell_type": "code",
   "execution_count": 50,
   "metadata": {},
   "outputs": [
    {
     "data": {
      "text/html": [
       "<style  type=\"text/css\" >\n",
       "    #T_9ee47808_c973_11e8_848d_1234567890abrow0_col0 {\n",
       "            background-color:  #ffff66;\n",
       "        }    #T_9ee47808_c973_11e8_848d_1234567890abrow1_col0 {\n",
       "            background-color:  #b9dc66;\n",
       "        }    #T_9ee47808_c973_11e8_848d_1234567890abrow2_col0 {\n",
       "            background-color:  #54aa66;\n",
       "        }    #T_9ee47808_c973_11e8_848d_1234567890abrow3_col0 {\n",
       "            background-color:  #008066;\n",
       "        }</style>  \n",
       "<table id=\"T_9ee47808_c973_11e8_848d_1234567890ab\" > \n",
       "<thead>    <tr> \n",
       "        <th class=\"blank level0\" ></th> \n",
       "        <th class=\"col_heading level0 col0\" >Survived</th> \n",
       "    </tr>    <tr> \n",
       "        <th class=\"index_name level0\" >Fare_range</th> \n",
       "        <th class=\"blank\" ></th> \n",
       "    </tr></thead> \n",
       "<tbody>    <tr> \n",
       "        <th id=\"T_9ee47808_c973_11e8_848d_1234567890ablevel0_row0\" class=\"row_heading level0 row0\" >(-0.001, 7.91]</th> \n",
       "        <td id=\"T_9ee47808_c973_11e8_848d_1234567890abrow0_col0\" class=\"data row0 col0\" >0.197309</td> \n",
       "    </tr>    <tr> \n",
       "        <th id=\"T_9ee47808_c973_11e8_848d_1234567890ablevel0_row1\" class=\"row_heading level0 row1\" >(7.91, 14.454]</th> \n",
       "        <td id=\"T_9ee47808_c973_11e8_848d_1234567890abrow1_col0\" class=\"data row1 col0\" >0.303571</td> \n",
       "    </tr>    <tr> \n",
       "        <th id=\"T_9ee47808_c973_11e8_848d_1234567890ablevel0_row2\" class=\"row_heading level0 row2\" >(14.454, 31.0]</th> \n",
       "        <td id=\"T_9ee47808_c973_11e8_848d_1234567890abrow2_col0\" class=\"data row2 col0\" >0.454955</td> \n",
       "    </tr>    <tr> \n",
       "        <th id=\"T_9ee47808_c973_11e8_848d_1234567890ablevel0_row3\" class=\"row_heading level0 row3\" >(31.0, 512.329]</th> \n",
       "        <td id=\"T_9ee47808_c973_11e8_848d_1234567890abrow3_col0\" class=\"data row3 col0\" >0.581081</td> \n",
       "    </tr></tbody> \n",
       "</table> "
      ],
      "text/plain": [
       "<pandas.io.formats.style.Styler at 0x200f9b09668>"
      ]
     },
     "execution_count": 50,
     "metadata": {},
     "output_type": "execute_result"
    }
   ],
   "source": [
    "df.groupby(['Fare_range'])['Survived'].mean().to_frame().style.background_gradient(cmap='summer_r')"
   ]
  },
  {
   "cell_type": "code",
   "execution_count": 51,
   "metadata": {},
   "outputs": [],
   "source": [
    "df['Fare_cat']=0\n",
    "df.loc[df['Fare']<=7.91,'Fare_cat']=0\n",
    "df.loc[(df['Fare']>7.91)&(df['Fare']<=14.454),'Fare_cat']=1\n",
    "df.loc[(df['Fare']>14.454)&(df['Fare']<=31),'Fare_cat']=2\n",
    "df.loc[(df['Fare']>31)&(df['Fare']<=513),'Fare_cat']=3"
   ]
  },
  {
   "cell_type": "code",
   "execution_count": 52,
   "metadata": {},
   "outputs": [
    {
     "data": {
      "image/png": "[encoded data removed]",
      "text/plain": [
       "<Figure size 358.5x288 with 1 Axes>"
      ]
     },
     "metadata": {},
     "output_type": "display_data"
    }
   ],
   "source": [
    "sns.factorplot(x = 'Fare_cat', y= 'Survived', hue ='Sex', data = df)\n",
    "plt.show()"
   ]
  },
  {
   "cell_type": "code",
   "execution_count": 53,
   "metadata": {},
   "outputs": [],
   "source": [
    "df['Sex'].replace(['male','female'],[0,1],inplace=True)\n",
    "df['Embarked'].replace(['S','C','Q'],[0,1,2],inplace=True)\n",
    "df['Initial'].replace(['Mr','Mrs','Miss','Master','Other'],[0,1,2,3,4],inplace=True)"
   ]
  },
  {
   "cell_type": "code",
   "execution_count": 54,
   "metadata": {},
   "outputs": [
    {
     "data": {
      "image/png": "[encoded data removed]",
      "text/plain": [
       "<Figure size 1296x1080 with 2 Axes>"
      ]
     },
     "metadata": {},
     "output_type": "display_data"
    }
   ],
   "source": [
    "df.drop(['Name','Age','Ticket','Fare','Cabin','Fare_range','PassengerId'],axis=1,inplace=True)\n",
    "sns.heatmap(df.corr(),annot=True,cmap='RdYlGn',linewidths=0.2,annot_kws={'size':20})\n",
    "fig=plt.gcf()\n",
    "fig.set_size_inches(18,15)\n",
    "plt.xticks(fontsize=14)\n",
    "plt.yticks(fontsize=14)\n",
    "plt.show()"
   ]
  },
  {
   "cell_type": "code",
   "execution_count": 55,
   "metadata": {},
   "outputs": [
    {
     "data": {
      "text/html": [
       "<div>\n",
       "<style scoped>\n",
       "    .dataframe tbody tr th:only-of-type {\n",
       "        vertical-align: middle;\n",
       "    }\n",
       "\n",
       "    .dataframe tbody tr th {\n",
       "        vertical-align: top;\n",
       "    }\n",
       "\n",
       "    .dataframe thead th {\n",
       "        text-align: right;\n",
       "    }\n",
       "</style>\n",
       "<table border=\"1\" class=\"dataframe\">\n",
       "  <thead>\n",
       "    <tr style=\"text-align: right;\">\n",
       "      <th></th>\n",
       "      <th>Survived</th>\n",
       "      <th>Pclass</th>\n",
       "      <th>Sex</th>\n",
       "      <th>SibSp</th>\n",
       "      <th>Parch</th>\n",
       "      <th>Embarked</th>\n",
       "      <th>Initial</th>\n",
       "      <th>Age_band</th>\n",
       "      <th>Fare_cat</th>\n",
       "    </tr>\n",
       "  </thead>\n",
       "  <tbody>\n",
       "    <tr>\n",
       "      <th>0</th>\n",
       "      <td>0</td>\n",
       "      <td>3</td>\n",
       "      <td>0</td>\n",
       "      <td>1</td>\n",
       "      <td>0</td>\n",
       "      <td>0</td>\n",
       "      <td>0</td>\n",
       "      <td>1</td>\n",
       "      <td>0</td>\n",
       "    </tr>\n",
       "    <tr>\n",
       "      <th>1</th>\n",
       "      <td>1</td>\n",
       "      <td>1</td>\n",
       "      <td>1</td>\n",
       "      <td>1</td>\n",
       "      <td>0</td>\n",
       "      <td>1</td>\n",
       "      <td>1</td>\n",
       "      <td>2</td>\n",
       "      <td>3</td>\n",
       "    </tr>\n",
       "    <tr>\n",
       "      <th>2</th>\n",
       "      <td>1</td>\n",
       "      <td>3</td>\n",
       "      <td>1</td>\n",
       "      <td>0</td>\n",
       "      <td>0</td>\n",
       "      <td>0</td>\n",
       "      <td>2</td>\n",
       "      <td>1</td>\n",
       "      <td>1</td>\n",
       "    </tr>\n",
       "    <tr>\n",
       "      <th>3</th>\n",
       "      <td>1</td>\n",
       "      <td>1</td>\n",
       "      <td>1</td>\n",
       "      <td>1</td>\n",
       "      <td>0</td>\n",
       "      <td>0</td>\n",
       "      <td>1</td>\n",
       "      <td>2</td>\n",
       "      <td>3</td>\n",
       "    </tr>\n",
       "    <tr>\n",
       "      <th>4</th>\n",
       "      <td>0</td>\n",
       "      <td>3</td>\n",
       "      <td>0</td>\n",
       "      <td>0</td>\n",
       "      <td>0</td>\n",
       "      <td>0</td>\n",
       "      <td>0</td>\n",
       "      <td>2</td>\n",
       "      <td>1</td>\n",
       "    </tr>\n",
       "  </tbody>\n",
       "</table>\n",
       "</div>"
      ],
      "text/plain": [
       "   Survived  Pclass  Sex  SibSp  Parch  Embarked  Initial  Age_band  Fare_cat\n",
       "0         0       3    0      1      0         0        0         1         0\n",
       "1         1       1    1      1      0         1        1         2         3\n",
       "2         1       3    1      0      0         0        2         1         1\n",
       "3         1       1    1      1      0         0        1         2         3\n",
       "4         0       3    0      0      0         0        0         2         1"
      ]
     },
     "execution_count": 55,
     "metadata": {},
     "output_type": "execute_result"
    }
   ],
   "source": [
    "df.head()"
   ]
  },
  {
   "cell_type": "markdown",
   "metadata": {},
   "source": [
    "# Part3: Predictive Modeling"
   ]
  },
  {
   "cell_type": "code",
   "execution_count": 56,
   "metadata": {},
   "outputs": [],
   "source": [
    "from sklearn.linear_model import LogisticRegression\n",
    "from sklearn import svm\n",
    "from sklearn.ensemble import RandomForestClassifier\n",
    "from sklearn.neighbors import KNeighborsClassifier\n",
    "from sklearn.naive_bayes import GaussianNB\n",
    "from sklearn.tree import DecisionTreeClassifier\n",
    "\n",
    "from sklearn.model_selection import train_test_split\n",
    "from sklearn import metrics\n",
    "from sklearn.metrics import confusion_matrix"
   ]
  },
  {
   "cell_type": "code",
   "execution_count": 57,
   "metadata": {},
   "outputs": [
    {
     "data": {
      "text/html": [
       "<div>\n",
       "<style scoped>\n",
       "    .dataframe tbody tr th:only-of-type {\n",
       "        vertical-align: middle;\n",
       "    }\n",
       "\n",
       "    .dataframe tbody tr th {\n",
       "        vertical-align: top;\n",
       "    }\n",
       "\n",
       "    .dataframe thead th {\n",
       "        text-align: right;\n",
       "    }\n",
       "</style>\n",
       "<table border=\"1\" class=\"dataframe\">\n",
       "  <thead>\n",
       "    <tr style=\"text-align: right;\">\n",
       "      <th></th>\n",
       "      <th>Survived</th>\n",
       "      <th>Pclass</th>\n",
       "      <th>Sex</th>\n",
       "      <th>SibSp</th>\n",
       "      <th>Parch</th>\n",
       "      <th>Embarked</th>\n",
       "      <th>Initial</th>\n",
       "      <th>Age_band</th>\n",
       "      <th>Fare_cat</th>\n",
       "    </tr>\n",
       "  </thead>\n",
       "  <tbody>\n",
       "    <tr>\n",
       "      <th>0</th>\n",
       "      <td>0</td>\n",
       "      <td>3</td>\n",
       "      <td>0</td>\n",
       "      <td>1</td>\n",
       "      <td>0</td>\n",
       "      <td>0</td>\n",
       "      <td>0</td>\n",
       "      <td>1</td>\n",
       "      <td>0</td>\n",
       "    </tr>\n",
       "    <tr>\n",
       "      <th>1</th>\n",
       "      <td>1</td>\n",
       "      <td>1</td>\n",
       "      <td>1</td>\n",
       "      <td>1</td>\n",
       "      <td>0</td>\n",
       "      <td>1</td>\n",
       "      <td>1</td>\n",
       "      <td>2</td>\n",
       "      <td>3</td>\n",
       "    </tr>\n",
       "    <tr>\n",
       "      <th>2</th>\n",
       "      <td>1</td>\n",
       "      <td>3</td>\n",
       "      <td>1</td>\n",
       "      <td>0</td>\n",
       "      <td>0</td>\n",
       "      <td>0</td>\n",
       "      <td>2</td>\n",
       "      <td>1</td>\n",
       "      <td>1</td>\n",
       "    </tr>\n",
       "    <tr>\n",
       "      <th>3</th>\n",
       "      <td>1</td>\n",
       "      <td>1</td>\n",
       "      <td>1</td>\n",
       "      <td>1</td>\n",
       "      <td>0</td>\n",
       "      <td>0</td>\n",
       "      <td>1</td>\n",
       "      <td>2</td>\n",
       "      <td>3</td>\n",
       "    </tr>\n",
       "    <tr>\n",
       "      <th>4</th>\n",
       "      <td>0</td>\n",
       "      <td>3</td>\n",
       "      <td>0</td>\n",
       "      <td>0</td>\n",
       "      <td>0</td>\n",
       "      <td>0</td>\n",
       "      <td>0</td>\n",
       "      <td>2</td>\n",
       "      <td>1</td>\n",
       "    </tr>\n",
       "  </tbody>\n",
       "</table>\n",
       "</div>"
      ],
      "text/plain": [
       "   Survived  Pclass  Sex  SibSp  Parch  Embarked  Initial  Age_band  Fare_cat\n",
       "0         0       3    0      1      0         0        0         1         0\n",
       "1         1       1    1      1      0         1        1         2         3\n",
       "2         1       3    1      0      0         0        2         1         1\n",
       "3         1       1    1      1      0         0        1         2         3\n",
       "4         0       3    0      0      0         0        0         2         1"
      ]
     },
     "execution_count": 57,
     "metadata": {},
     "output_type": "execute_result"
    }
   ],
   "source": [
    "df.head()"
   ]
  },
  {
   "cell_type": "code",
   "execution_count": 58,
   "metadata": {},
   "outputs": [],
   "source": [
    "X = df.iloc[:,1:].values\n",
    "y = df.iloc[:, 0].values\n",
    "X_train, X_test, y_train, y_test = train_test_split(X, y, test_size=0.33, random_state=0)"
   ]
  },
  {
   "cell_type": "markdown",
   "metadata": {},
   "source": [
    "### Radial Support Vector Machines(rbf-SVM)"
   ]
  },
  {
   "cell_type": "code",
   "execution_count": 59,
   "metadata": {},
   "outputs": [
    {
     "name": "stdout",
     "output_type": "stream",
     "text": [
      "Predict accuracy is  0.8169491525423729\n"
     ]
    }
   ],
   "source": [
    "model = svm.SVC(kernel='rbf',C=1,gamma=0.1)\n",
    "model.fit(X_train, y_train)\n",
    "predict_rsvm = model.predict(X_test)\n",
    "print('Predict accuracy is ',metrics.accuracy_score(predict_rsvm,y_test))"
   ]
  },
  {
   "cell_type": "markdown",
   "metadata": {},
   "source": [
    "### linear Support Vector Machines(linear-SVM)\n"
   ]
  },
  {
   "cell_type": "code",
   "execution_count": 60,
   "metadata": {},
   "outputs": [
    {
     "name": "stdout",
     "output_type": "stream",
     "text": [
      "Predict accuracy is  0.7694915254237288\n"
     ]
    }
   ],
   "source": [
    "model = svm.SVC(kernel = 'linear',C=0.1,gamma=0.1)\n",
    "model.fit(X_train, y_train)\n",
    "predict_linear_svm = model.predict(X_test)\n",
    "print('Predict accuracy is ',metrics.accuracy_score(predict_linear_svm,y_test))"
   ]
  },
  {
   "cell_type": "markdown",
   "metadata": {},
   "source": [
    "### Logistic Regression"
   ]
  },
  {
   "cell_type": "code",
   "execution_count": 61,
   "metadata": {},
   "outputs": [
    {
     "name": "stdout",
     "output_type": "stream",
     "text": [
      "The accuracy of the Logistic Regression is 0.8\n"
     ]
    }
   ],
   "source": [
    "model = LogisticRegression()\n",
    "model.fit(X_train, y_train)\n",
    "prediction_logistic_regression = model.predict(X_test)\n",
    "print('The accuracy of the Logistic Regression is',metrics.accuracy_score(prediction_logistic_regression,y_test))"
   ]
  },
  {
   "cell_type": "markdown",
   "metadata": {},
   "source": [
    "### Decision Tree"
   ]
  },
  {
   "cell_type": "code",
   "execution_count": 62,
   "metadata": {},
   "outputs": [
    {
     "name": "stdout",
     "output_type": "stream",
     "text": [
      "The accuracy of Decision Tree is 0.8305084745762712\n"
     ]
    }
   ],
   "source": [
    "model = DecisionTreeClassifier()\n",
    "model.fit(X_train, y_train)\n",
    "prediction_decision_tree = model.predict(X_test)\n",
    "print('The accuracy of Decision Tree is', metrics.accuracy_score(prediction_decision_tree, y_test))"
   ]
  },
  {
   "cell_type": "markdown",
   "metadata": {},
   "source": [
    "### K-Nearest Neighbours(KNN)"
   ]
  },
  {
   "cell_type": "code",
   "execution_count": 63,
   "metadata": {},
   "outputs": [
    {
     "name": "stdout",
     "output_type": "stream",
     "text": [
      "The accuracy of the KNN is 0.8135593220338984\n"
     ]
    }
   ],
   "source": [
    "model = KNeighborsClassifier()\n",
    "model.fit(X_train, y_train)\n",
    "prediction_knn = model.predict(X_test)\n",
    "print('The accuracy of the KNN is', metrics.accuracy_score(prediction_knn, y_test))"
   ]
  },
  {
   "cell_type": "markdown",
   "metadata": {},
   "source": [
    "### Gaussian Naive Bayes"
   ]
  },
  {
   "cell_type": "code",
   "execution_count": 64,
   "metadata": {},
   "outputs": [
    {
     "name": "stdout",
     "output_type": "stream",
     "text": [
      "The accuracy of the NaiveBayes is 0.7898305084745763\n"
     ]
    }
   ],
   "source": [
    "model = GaussianNB()\n",
    "model.fit(X_train, y_train)\n",
    "prediction_gnb = model.predict(X_test)\n",
    "print('The accuracy of the NaiveBayes is',metrics.accuracy_score(prediction_gnb,y_test))"
   ]
  },
  {
   "cell_type": "markdown",
   "metadata": {},
   "source": [
    "### Random Forests"
   ]
  },
  {
   "cell_type": "code",
   "execution_count": 65,
   "metadata": {},
   "outputs": [
    {
     "name": "stdout",
     "output_type": "stream",
     "text": [
      "The accuracy of the Random Forests is 0.823728813559322\n"
     ]
    }
   ],
   "source": [
    "model = RandomForestClassifier(n_estimators=20)\n",
    "model.fit(X_train, y_train)\n",
    "prediction_random_forest = model.predict(X_test)\n",
    "print('The accuracy of the Random Forests is',metrics.accuracy_score(prediction_random_forest,y_test))"
   ]
  },
  {
   "cell_type": "markdown",
   "metadata": {},
   "source": [
    "### Confusion Matrix"
   ]
  },
  {
   "cell_type": "code",
   "execution_count": 66,
   "metadata": {},
   "outputs": [
    {
     "data": {
      "text/plain": [
       "Text(0.5,1,'Matrix for Naive Bayes')"
      ]
     },
     "execution_count": 66,
     "metadata": {},
     "output_type": "execute_result"
    },
    {
     "data": {
      "image/png": "[encoded data removed]",
      "text/plain": [
       "<Figure size 864x720 with 16 Axes>"
      ]
     },
     "metadata": {},
     "output_type": "display_data"
    }
   ],
   "source": [
    "from sklearn.model_selection import cross_val_predict #prediction\n",
    "f, ax = plt.subplots(3,3, figsize =(12,10))\n",
    "\n",
    "y_pred = cross_val_predict(svm.SVC(kernel='rbf'), X, y, cv = 10)\n",
    "sns.heatmap(confusion_matrix(y, y_pred), ax = ax[0][0], annot=True, fmt='2.0f')\n",
    "ax[0][0].set_title('Matrix for rbf- SVM')\n",
    "\n",
    "y_pred = cross_val_predict(svm.SVC(kernel='linear'), X, y, cv = 10)\n",
    "sns.heatmap(confusion_matrix(y, y_pred), ax = ax[0][1], annot=True, fmt='2.0f')\n",
    "ax[0][1].set_title('Matrix for Linear- SVM')\n",
    "\n",
    "y_pred = cross_val_predict(KNeighborsClassifier(n_neighbors=9), X, y, cv = 10)\n",
    "sns.heatmap(confusion_matrix(y, y_pred), ax = ax[0][2], annot=True, fmt='2.0f')\n",
    "ax[0][2].set_title('Matrix for KNN')\n",
    "\n",
    "y_pred = cross_val_predict(RandomForestClassifier(n_estimators=100), X, y, cv = 10)\n",
    "sns.heatmap(confusion_matrix(y, y_pred), ax = ax[1][0], annot=True, fmt='2.0f')\n",
    "ax[1][0].set_title('Matrix for Random Forest')\n",
    "\n",
    "y_pred = cross_val_predict(LogisticRegression(), X, y, cv = 10)\n",
    "sns.heatmap(confusion_matrix(y, y_pred), ax = ax[1][1], annot=True, fmt='2.0f')\n",
    "ax[1][1].set_title('Matrix for Logistic Regression')\n",
    "\n",
    "y_pred = cross_val_predict(DecisionTreeClassifier(), X, y, cv = 10)\n",
    "sns.heatmap(confusion_matrix(y, y_pred), ax = ax[1][2], annot=True, fmt='2.0f')\n",
    "ax[1][2].set_title('Matrix for Decision Tree')\n",
    "\n",
    "y_pred = cross_val_predict(GaussianNB(), X, y, cv = 10)\n",
    "sns.heatmap(confusion_matrix(y, y_pred), ax = ax[2][0], annot=True, fmt='2.0f')\n",
    "ax[2][0].set_title('Matrix for Naive Bayes')"
   ]
  },
  {
   "cell_type": "markdown",
   "metadata": {},
   "source": [
    "# Ensemble Learning"
   ]
  },
  {
   "cell_type": "markdown",
   "metadata": {},
   "source": [
    "##            Voting"
   ]
  },
  {
   "cell_type": "code",
   "execution_count": 79,
   "metadata": {},
   "outputs": [
    {
     "name": "stdout",
     "output_type": "stream",
     "text": [
      "Accuracy of model is  0.8135593220338984\n",
      "The cross validated score is 0.8248899103393486\n"
     ]
    }
   ],
   "source": [
    "from sklearn.ensemble import VotingClassifier\n",
    "from sklearn.model_selection import cross_val_score\n",
    "ensemble_lin_rbf = VotingClassifier(estimators=[\n",
    "                    ('KNN', KNeighborsClassifier(n_neighbors=10)),\n",
    "                    ('RBF', svm.SVC(probability=True, kernel='rbf', C=0.5, gamma=0.1)),\n",
    "                    ('RFOR', RandomForestClassifier(n_estimators=500, random_state=0 )),\n",
    "                    ('LR', LogisticRegression(C= 0.5)),\n",
    "                    ('DT', DecisionTreeClassifier(random_state=0) ),\n",
    "                    ('NB', GaussianNB()),\n",
    "                    ('svb', svm.SVC(kernel='linear', probability=True))\n",
    "                    ],\n",
    "                    voting = 'soft').fit(X_train, y_train)\n",
    "print('Accuracy of model is ', ensemble_lin_rbf.score(X_test, y_test))\n",
    "#rint('The accuracy for ensembled model is:',ensemble_lin_rbf.score(test_X,test_Y))\n",
    "cross=cross_val_score(ensemble_lin_rbf,X,y, cv = 10,scoring = \"accuracy\")\n",
    "print('The cross validated score is',cross.mean())"
   ]
  },
  {
   "cell_type": "markdown",
   "metadata": {},
   "source": [
    "### Bagged KNN"
   ]
  },
  {
   "cell_type": "code",
   "execution_count": 83,
   "metadata": {},
   "outputs": [
    {
     "name": "stdout",
     "output_type": "stream",
     "text": [
      "Accuracy of bagged KNN is : 0.8305084745762712\n",
      "The cross validated score for bagged KNN is: 0.8205331403926909\n"
     ]
    }
   ],
   "source": [
    "from sklearn.ensemble import BaggingClassifier\n",
    "model = BaggingClassifier(base_estimator=KNeighborsClassifier(n_neighbors=3), random_state=0, n_estimators=700)\n",
    "model.fit(X_train, y_train)\n",
    "prediction = model.predict(X_test)\n",
    "print('Accuracy of bagged KNN is :', metrics.accuracy_score(prediction, y_test))\n",
    "result = cross_val_score(model, X, y, cv = 10, scoring='accuracy')\n",
    "print('The cross validated score for bagged KNN is:', result.mean())"
   ]
  },
  {
   "cell_type": "markdown",
   "metadata": {},
   "source": [
    "### Bagged Decision"
   ]
  },
  {
   "cell_type": "code",
   "execution_count": 85,
   "metadata": {},
   "outputs": [
    {
     "name": "stdout",
     "output_type": "stream",
     "text": [
      "Accuracy of bagged KNN is : 0.847457627118644\n",
      "The cross validated score for bagged KNN is: 0.8216573033707864\n"
     ]
    }
   ],
   "source": [
    "from sklearn.ensemble import BaggingClassifier\n",
    "model = BaggingClassifier(base_estimator=DecisionTreeClassifier(), random_state=0, n_estimators=100)\n",
    "model.fit(X_train, y_train)\n",
    "prediction = model.predict(X_test)\n",
    "print('Accuracy of bagged KNN is :', metrics.accuracy_score(prediction, y_test))\n",
    "result = cross_val_score(model, X, y, cv = 10, scoring='accuracy')\n",
    "print('The cross validated score for bagged KNN is:', result.mean())"
   ]
  },
  {
   "cell_type": "markdown",
   "metadata": {},
   "source": [
    "##  AdaBoost(Adaptive Boosing)"
   ]
  },
  {
   "cell_type": "code",
   "execution_count": 88,
   "metadata": {},
   "outputs": [
    {
     "name": "stdout",
     "output_type": "stream",
     "text": [
      "The cross validated score for AdaBoost is:  0.8260762115537397\n"
     ]
    }
   ],
   "source": [
    "from sklearn.ensemble import AdaBoostClassifier\n",
    "ada = AdaBoostClassifier(n_estimators=200, random_state=0, learning_rate=0.1)\n",
    "result=cross_val_score(ada, X, y, cv = 10, scoring='accuracy')\n",
    "print('The cross validated score for AdaBoost is: ', result.mean())"
   ]
  },
  {
   "cell_type": "markdown",
   "metadata": {},
   "source": [
    "## XGBoost"
   ]
  },
  {
   "cell_type": "code",
   "execution_count": 96,
   "metadata": {},
   "outputs": [
    {
     "name": "stdout",
     "output_type": "stream",
     "text": [
      "The cross validated score for XGBoost is: 0.8126926569061401\n"
     ]
    }
   ],
   "source": [
    "import xgboost as xg\n",
    "xgboost = xg.XGBClassifier(n_estimators=900, learning_rate=0.1)\n",
    "result=cross_val_score(xgboost, X, y, cv = 10, scoring='accuracy')\n",
    "print('The cross validated score for XGBoost is:', result.mean())"
   ]
  },
  {
   "cell_type": "code",
   "execution_count": 97,
   "metadata": {},
   "outputs": [
    {
     "name": "stdout",
     "output_type": "stream",
     "text": [
      "Fitting 3 folds for each of 110 candidates, totalling 330 fits\n"
     ]
    },
    {
     "name": "stderr",
     "output_type": "stream",
     "text": [
      "[Parallel(n_jobs=1)]: Done 330 out of 330 | elapsed:  6.5min finished\n"
     ]
    },
    {
     "name": "stdout",
     "output_type": "stream",
     "text": [
      "0.8237934904601572\n",
      "AdaBoostClassifier(algorithm='SAMME.R', base_estimator=None,\n",
      "          learning_rate=0.05, n_estimators=200, random_state=None)\n"
     ]
    }
   ],
   "source": [
    "from sklearn.model_selection import GridSearchCV\n",
    "n_estimators = list(range(100, 1100, 100))\n",
    "learn_rate = [0.05, 0.1, 0.2, 0.3, 0.4, 0.5, 0.6,0.7, 0.8, 0.9, 1]\n",
    "hyper ={\n",
    "    'n_estimators': n_estimators,\n",
    "    'learning_rate': learn_rate\n",
    "}\n",
    "gd = GridSearchCV(estimator = AdaBoostClassifier(), param_grid = hyper, verbose = True)\n",
    "gd.fit(X, y)\n",
    "print(gd.best_score_)\n",
    "print(gd.best_estimator_)"
   ]
  },
  {
   "cell_type": "markdown",
   "metadata": {},
   "source": [
    "#### confustion matrix for the Best Model"
   ]
  },
  {
   "cell_type": "code",
   "execution_count": 99,
   "metadata": {},
   "outputs": [
    {
     "data": {
      "text/plain": [
       "<matplotlib.axes._subplots.AxesSubplot at 0x200ff3f1208>"
      ]
     },
     "execution_count": 99,
     "metadata": {},
     "output_type": "execute_result"
    },
    {
     "data": {
      "image/png": "[encoded data removed]",
      "text/plain": [
       "<Figure size 432x288 with 2 Axes>"
      ]
     },
     "metadata": {},
     "output_type": "display_data"
    }
   ],
   "source": [
    "ada = AdaBoostClassifier(n_estimators=200, random_state=1, learning_rate=0.05)\n",
    "result = cross_val_predict(ada, X, y, cv = 10)\n",
    "sns.heatmap(confusion_matrix(y, result), cmap = 'winter', annot=True, fmt = '2.0f')"
   ]
  },
  {
   "cell_type": "code",
   "execution_count": 103,
   "metadata": {
    "scrolled": true
   },
   "outputs": [
    {
     "data": {
      "text/plain": [
       "Text(0.5,1,'Feature Importance in XgBoost')"
      ]
     },
     "execution_count": 103,
     "metadata": {},
     "output_type": "execute_result"
    },
    {
     "data": {
      "image/png": "[encoded data removed]",
      "text/plain": [
       "<Figure size 1080x864 with 4 Axes>"
      ]
     },
     "metadata": {},
     "output_type": "display_data"
    }
   ],
   "source": [
    "from sklearn.ensemble import GradientBoostingClassifier\n",
    "X=df[df.columns[1:]]\n",
    "y=df['Survived']\n",
    "\n",
    "f,ax=plt.subplots(2,2,figsize=(15,12))\n",
    "model=RandomForestClassifier(n_estimators=500,random_state=0)\n",
    "model.fit(X,y)\n",
    "pd.Series(model.feature_importances_,X.columns).sort_values(ascending=True).plot.barh(width=0.8,ax=ax[0,0])\n",
    "ax[0,0].set_title('Feature Importance in Random Forests')\n",
    "model=AdaBoostClassifier(n_estimators=200,learning_rate=0.05,random_state=0)\n",
    "model.fit(X,y)\n",
    "pd.Series(model.feature_importances_,X.columns).sort_values(ascending=True).plot.barh(width=0.8,ax=ax[0,1],color='#ddff11')\n",
    "ax[0,1].set_title('Feature Importance in AdaBoost')\n",
    "model=GradientBoostingClassifier(n_estimators=500,learning_rate=0.1,random_state=0)\n",
    "model.fit(X,y)\n",
    "pd.Series(model.feature_importances_,X.columns).sort_values(ascending=True).plot.barh(width=0.8,ax=ax[1,0],cmap='RdYlGn_r')\n",
    "ax[1,0].set_title('Feature Importance in Gradient Boosting')\n",
    "model=xg.XGBClassifier(n_estimators=900,learning_rate=0.1)\n",
    "model.fit(X,y)\n",
    "pd.Series(model.feature_importances_,X.columns).sort_values(ascending=True).plot.barh(width=0.8,ax=ax[1,1],color='#FD0F00')\n",
    "ax[1,1].set_title('Feature Importance in XgBoost')"
   ]
  },
  {
   "cell_type": "code",
   "execution_count": null,
   "metadata": {},
   "outputs": [],
   "source": []
  }
 ],
 "metadata": {
  "kernelspec": {
   "display_name": "Python 3",
   "language": "python",
   "name": "python3"
  },
  "language_info": {
   "codemirror_mode": {
    "name": "ipython",
    "version": 3
   },
   "file_extension": ".py",
   "mimetype": "text/x-python",
   "name": "python",
   "nbconvert_exporter": "python",
   "pygments_lexer": "ipython3",
   "version": "3.6.5"
  }
 },
 "nbformat": 4,
 "nbformat_minor": 2
}
